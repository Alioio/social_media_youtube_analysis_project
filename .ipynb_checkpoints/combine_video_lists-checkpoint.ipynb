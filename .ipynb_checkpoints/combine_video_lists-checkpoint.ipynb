{
 "cells": [
  {
   "cell_type": "markdown",
   "metadata": {},
   "source": [
    "# Script to Combine Video Lists generated with the [YouTube Data Tools](https://tools.digitalmethods.net/netvizz/youtube/index.php) \n",
    "## Usage\n",
    "\n",
    "1. go to the Variables Section below and Set/Check the desired Values. make sure the relative Paths are correct.\n",
    "\n",
    "## Features\n",
    "\n",
    "- Combines Video Lists from  [YouTube Data Tools](https://tools.digitalmethods.net/netvizz/youtube/index.php)\n",
    "- Removes Duplicate Video Entrys\n",
    "\n"
   ]
  },
  {
   "cell_type": "markdown",
   "metadata": {},
   "source": [
    "Import Stuff"
   ]
  },
  {
   "cell_type": "code",
   "execution_count": 14,
   "metadata": {},
   "outputs": [],
   "source": [
    "import pandas as pd\n",
    "import numpy as np\n",
    "import os\n",
    "from datetime import datetime"
   ]
  },
  {
   "cell_type": "markdown",
   "metadata": {},
   "source": [
    "set Variables and options\n",
    "\n",
    "### Variables:"
   ]
  },
  {
   "cell_type": "code",
   "execution_count": 15,
   "metadata": {},
   "outputs": [
    {
     "name": "stdout",
     "output_type": "stream",
     "text": [
      "C:\\Users\\moritz\\Downloads\\social analizing\\project\\git\\social_media_youtube_analysis_project\n"
     ]
    }
   ],
   "source": [
    "min_Comments = 3.0\n",
    "\n",
    "path = os.path.abspath(\"../social_media_youtube_analysis_project\")\n",
    "data_raw_path = path + \"/data_raw/videolists\" # raw video lists\n",
    "video_list_save_path = path + \"/summery_vid_lists\"\n",
    "comment_saves_path = path + \"/data_raw/comments\"\n",
    "print(path)"
   ]
  },
  {
   "cell_type": "markdown",
   "metadata": {},
   "source": [
    "### Features"
   ]
  },
  {
   "cell_type": "code",
   "execution_count": 16,
   "metadata": {},
   "outputs": [],
   "source": [
    "mark_videos_from_old_list = True\n",
    "mark_videos_from_comment_files = True"
   ]
  },
  {
   "cell_type": "markdown",
   "metadata": {},
   "source": [
    "options:"
   ]
  },
  {
   "cell_type": "code",
   "execution_count": 17,
   "metadata": {},
   "outputs": [],
   "source": [
    "pd.set_option('display.max_rows', None)\n",
    "pd.set_option('display.max_columns', None)\n",
    "pd.set_option('display.width', None)\n",
    "pd.set_option('display.max_colwidth', None)"
   ]
  },
  {
   "cell_type": "markdown",
   "metadata": {},
   "source": [
    "Erstelle Liste der Videolisten und checken der Pfade"
   ]
  },
  {
   "cell_type": "code",
   "execution_count": 18,
   "metadata": {},
   "outputs": [
    {
     "name": "stdout",
     "output_type": "stream",
     "text": [
      "['videolist_search100_2021_01_28-10_56_10_climate_change_rainforest.tab', 'videolist_search100_2021_01_28-10_57_20_climate_change_greta.tab', 'videolist_search500_2021_02_07-00_46_57_climate_crisis.tab', 'videolist_search50_2021_01_19-13_55_33_paris_agreement.tab', 'videolist_search50_2021_02_08-14_19_10_paris_agreement.tab']\n"
     ]
    }
   ],
   "source": [
    "if not os.path.exists(path):\n",
    "    raise ValueError(\"Error, Check Path in 'path' variable\")\n",
    "if not os.path.exists(data_raw_path):\n",
    "    raise ValueError(\"Error, Check Path in 'data_raw_path' variable\")\n",
    "if not os.path.exists(video_list_save_path):\n",
    "    raise ValueError(\"Error, Check Path in 'video_list_save_path' variable\")\n",
    "if not os.path.exists(video_list_save_path) and mark_videos_from_comment_files:\n",
    "    raise ValueError(\"Error, Check Path in 'video_list_save_path' variable\")\n",
    "\n",
    "files = [f for f in os.listdir(data_raw_path) if os.path.isfile(os.path.join( data_raw_path , f)) and \"videolist\" in f]\n",
    "print(files)\n",
    "\n",
    "if not files:\n",
    "    raise ValueError('Error List is empty, no video Lists have been found')"
   ]
  },
  {
   "cell_type": "markdown",
   "metadata": {},
   "source": [
    "combine files"
   ]
  },
  {
   "cell_type": "code",
   "execution_count": 19,
   "metadata": {},
   "outputs": [],
   "source": [
    "# combined_csv = pd.concat([pd.read_csv(data_raw_path +\"/\" + f, sep='\\t',header=(0)) for f in files ])\n",
    "\n",
    "firstfile = files.pop()\n",
    "combined_csv = pd.read_csv(data_raw_path +\"/\" + firstfile, sep='\\t',header=(0))\n",
    "combined_csv['search Term'] = firstfile\n",
    "combined_csv['Comments Downloaded'] = \"False\"\n",
    "combined_csv['Comments Downloaded - Stopped At'] = 0\n",
    "\n",
    "print(combined_csv)\n",
    "#for filename in files:\n",
    "#    filepath = data_raw_path +\"/\" + filename\n",
    "    "
   ]
  },
  {
   "cell_type": "markdown",
   "metadata": {},
   "source": [
    "drop duplicate videos"
   ]
  },
  {
   "cell_type": "code",
   "execution_count": 13,
   "metadata": {},
   "outputs": [],
   "source": [
    "combined_csv.drop_duplicates(subset =\"videoId\", \n",
    "                     keep = False, inplace = True) "
   ]
  },
  {
   "cell_type": "markdown",
   "metadata": {},
   "source": [
    "drop videos below comment minimum"
   ]
  },
  {
   "cell_type": "code",
   "execution_count": 14,
   "metadata": {},
   "outputs": [],
   "source": [
    "combined_csv.drop(combined_csv[combined_csv.commentCount < min_Comments].index, inplace=True)"
   ]
  },
  {
   "cell_type": "markdown",
   "metadata": {},
   "source": [
    "Insert Colums for Markings"
   ]
  },
  {
   "cell_type": "code",
   "execution_count": null,
   "metadata": {},
   "outputs": [],
   "source": []
  },
  {
   "cell_type": "code",
   "execution_count": null,
   "metadata": {},
   "outputs": [],
   "source": []
  },
  {
   "cell_type": "code",
   "execution_count": null,
   "metadata": {},
   "outputs": [],
   "source": []
  },
  {
   "cell_type": "markdown",
   "metadata": {},
   "source": [
    "funktion to Export as CSV with timestamp"
   ]
  },
  {
   "cell_type": "code",
   "execution_count": 54,
   "metadata": {},
   "outputs": [],
   "source": [
    "def export(export_csf):\n",
    "    # datetime object containing current date and time\n",
    "    now = datetime.now()\n",
    " \n",
    "    # time Format\n",
    "    # YY-mm-dd-H-M-S\n",
    "    dt_string = now.strftime(\"%Y-%m-%d-%H-%M-%S\")\n",
    "\n",
    "    # in case path does not exist\n",
    "    if not os.path.exists(path + \"/summery_vid_lists/\"):\n",
    "        os.makedirs(path + \"/summery_vid_lists/\")\n",
    "\n",
    "    export_csf.to_csv( video_list_save_path + \"/\" + dt_string + \"_master_video_list.csv\", index=False, encoding='utf-8-sig')"
   ]
  },
  {
   "cell_type": "markdown",
   "metadata": {},
   "source": [
    "Funktion to mark videos from old list"
   ]
  },
  {
   "cell_type": "code",
   "execution_count": null,
   "metadata": {},
   "outputs": [],
   "source": [
    "def mark_from_videos():\n",
    "    files = [f for f in os.listdir(video_list_save_path) if os.path.isfile(os.path.join( video_list_save_path , f)) and \"master_video_list\" in f]\n",
    "    print(files)"
   ]
  },
  {
   "cell_type": "markdown",
   "metadata": {},
   "source": [
    "Funktion to mark videos from comments"
   ]
  },
  {
   "cell_type": "code",
   "execution_count": null,
   "metadata": {},
   "outputs": [],
   "source": [
    "def mark_from_comments():\n",
    "    print(\"TODO\")"
   ]
  },
  {
   "cell_type": "code",
   "execution_count": null,
   "metadata": {},
   "outputs": [],
   "source": [
    "Apply features and export"
   ]
  },
  {
   "cell_type": "code",
   "execution_count": null,
   "metadata": {},
   "outputs": [],
   "source": [
    "if mark_videos_from_old_list:\n",
    "    mark_from_videos()\n",
    "\n",
    "if mark_videos_from_comment_files:\n",
    "    mark_from_comments()\n",
    "\n",
    "export(combined_csv)\n",
    "print(combined_csv)\n"
   ]
  },
  {
   "cell_type": "code",
   "execution_count": null,
   "metadata": {},
   "outputs": [],
   "source": []
  }
 ],
 "metadata": {
  "kernelspec": {
   "display_name": "Python 3",
   "language": "python",
   "name": "python3"
  },
  "language_info": {
   "codemirror_mode": {
    "name": "ipython",
    "version": 3
   },
   "file_extension": ".py",
   "mimetype": "text/x-python",
   "name": "python",
   "nbconvert_exporter": "python",
   "pygments_lexer": "ipython3",
   "version": "3.6.12"
  }
 },
 "nbformat": 4,
 "nbformat_minor": 4
}
