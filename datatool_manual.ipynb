{
 "cells": [
  {
   "cell_type": "code",
   "execution_count": 1,
   "metadata": {},
   "outputs": [],
   "source": [
    "import pandas as pd"
   ]
  },
  {
   "cell_type": "code",
   "execution_count": 7,
   "metadata": {},
   "outputs": [],
   "source": [
    "tab_file = \"videoinfo_wbR-5mHI6bo_2021_02_12-15_36_11_comments.tab\""
   ]
  },
  {
   "cell_type": "code",
   "execution_count": 18,
   "metadata": {},
   "outputs": [],
   "source": [
    "def extract_comments_from_data_tool(tab_file):\n",
    "    \"\"\"\n",
    "    tabfile: name of comments.tab file in data_raw/datatool_manual\n",
    "    \n",
    "    Stores comments retrieved manually through the youtube data tools in the same csv format as our pipeline does\n",
    "    Automatically checks if the basicinfo.tab file exists as well.\n",
    "    \"\"\"\n",
    "    \n",
    "    data = pd.read_csv(\"data_raw/datatool_manual/\" + tab_file, sep='\\t', header=(0))\n",
    "    data['threadId'] = data.id.apply(lambda x: x.split('.')[0])\n",
    "    \n",
    "    try:\n",
    "        info = pd.read_csv(\"data_raw/datatool_manual/\" + tab_file[:-12] + \"basicinfo.tab\",sep='\\t', names=[0, 1])\n",
    "        info = info.T\n",
    "        info.columns = info.T[0]\n",
    "        info = info.drop(0)\n",
    "        \n",
    "        data['video_id'] = info.id.iloc[0]\n",
    "        data['video_published_at'] = info.published.iloc[0]\n",
    "    except:\n",
    "        data['video_id'] = tab_file.split('_')[1]\n",
    "\n",
    "    data.drop(labels=['authorChannelUrl', 'isReplyTo', 'isReplyToName'], axis=1, inplace=True)\n",
    "    data.rename(columns={'isReply':'is_reply', \"publishedAt\":\"published_at\", \"authorName\":\"author_name\"}, inplace=True)\n",
    "    data.to_csv('data_raw/comments/' + tab_file[:-4] + '_comments_' + str(len(data)) + '.csv', index = True) \n",
    "    return data"
   ]
  },
  {
   "cell_type": "code",
   "execution_count": 20,
   "metadata": {},
   "outputs": [
    {
     "data": {
      "text/html": [
       "<div>\n",
       "<style scoped>\n",
       "    .dataframe tbody tr th:only-of-type {\n",
       "        vertical-align: middle;\n",
       "    }\n",
       "\n",
       "    .dataframe tbody tr th {\n",
       "        vertical-align: top;\n",
       "    }\n",
       "\n",
       "    .dataframe thead th {\n",
       "        text-align: right;\n",
       "    }\n",
       "</style>\n",
       "<table border=\"1\" class=\"dataframe\">\n",
       "  <thead>\n",
       "    <tr style=\"text-align: right;\">\n",
       "      <th></th>\n",
       "      <th>id</th>\n",
       "      <th>replyCount</th>\n",
       "      <th>likeCount</th>\n",
       "      <th>published_at</th>\n",
       "      <th>author_name</th>\n",
       "      <th>text</th>\n",
       "      <th>authorChannelId</th>\n",
       "      <th>is_reply</th>\n",
       "      <th>threadId</th>\n",
       "      <th>video_id</th>\n",
       "      <th>video_published_at</th>\n",
       "    </tr>\n",
       "  </thead>\n",
       "  <tbody>\n",
       "    <tr>\n",
       "      <th>40493</th>\n",
       "      <td>Ugx5Rg6o-U7AXvF2nLR4AaABAg.9EBmP0yKytl9EBmejKP6-O</td>\n",
       "      <td>NaN</td>\n",
       "      <td>0</td>\n",
       "      <td>2020-09-29 14:02:59</td>\n",
       "      <td>it's me RG</td>\n",
       "      <td>GG</td>\n",
       "      <td>UCNIkDLTBxw9qkYb2CnkgReg</td>\n",
       "      <td>1</td>\n",
       "      <td>Ugx5Rg6o-U7AXvF2nLR4AaABAg</td>\n",
       "      <td>wbR-5mHI6bo</td>\n",
       "      <td>2020-09-29 14:00:26</td>\n",
       "    </tr>\n",
       "    <tr>\n",
       "      <th>40494</th>\n",
       "      <td>Ugx5Rg6o-U7AXvF2nLR4AaABAg.9EBmP0yKytl9EBmY9XI4Z7</td>\n",
       "      <td>NaN</td>\n",
       "      <td>2</td>\n",
       "      <td>2020-09-29 14:01:57</td>\n",
       "      <td>Sea Bass</td>\n",
       "      <td>wow ur actually first. gg.</td>\n",
       "      <td>UCiTZZHaSX6RdLBZPjLXFH4A</td>\n",
       "      <td>1</td>\n",
       "      <td>Ugx5Rg6o-U7AXvF2nLR4AaABAg</td>\n",
       "      <td>wbR-5mHI6bo</td>\n",
       "      <td>2020-09-29 14:00:26</td>\n",
       "    </tr>\n",
       "    <tr>\n",
       "      <th>40495</th>\n",
       "      <td>Ugx5Rg6o-U7AXvF2nLR4AaABAg.9EBmP0yKytl9EBmT8TgGtM</td>\n",
       "      <td>NaN</td>\n",
       "      <td>1</td>\n",
       "      <td>2020-09-29 14:01:16</td>\n",
       "      <td>Ludovico Trozzi</td>\n",
       "      <td>This time for real</td>\n",
       "      <td>UCC3SLpVU1OJYOCMvHviIjZw</td>\n",
       "      <td>1</td>\n",
       "      <td>Ugx5Rg6o-U7AXvF2nLR4AaABAg</td>\n",
       "      <td>wbR-5mHI6bo</td>\n",
       "      <td>2020-09-29 14:00:26</td>\n",
       "    </tr>\n",
       "    <tr>\n",
       "      <th>40496</th>\n",
       "      <td>Ugx5Rg6o-U7AXvF2nLR4AaABAg.9EBmP0yKytl9EBmSMrR2N9</td>\n",
       "      <td>NaN</td>\n",
       "      <td>1</td>\n",
       "      <td>2020-09-29 14:01:09</td>\n",
       "      <td>J W</td>\n",
       "      <td>dang</td>\n",
       "      <td>UCsN2l1TtzmL0W1pBiIbBrJQ</td>\n",
       "      <td>1</td>\n",
       "      <td>Ugx5Rg6o-U7AXvF2nLR4AaABAg</td>\n",
       "      <td>wbR-5mHI6bo</td>\n",
       "      <td>2020-09-29 14:00:26</td>\n",
       "    </tr>\n",
       "    <tr>\n",
       "      <th>40497</th>\n",
       "      <td>Ugx5Rg6o-U7AXvF2nLR4AaABAg.9EBmP0yKytl9EBmQT_Kq0l</td>\n",
       "      <td>NaN</td>\n",
       "      <td>1</td>\n",
       "      <td>2020-09-29 14:00:54</td>\n",
       "      <td>Fabio Le Beau</td>\n",
       "      <td>y e s</td>\n",
       "      <td>UCsjeCGNgbyf3wuTjNvbDH2w</td>\n",
       "      <td>1</td>\n",
       "      <td>Ugx5Rg6o-U7AXvF2nLR4AaABAg</td>\n",
       "      <td>wbR-5mHI6bo</td>\n",
       "      <td>2020-09-29 14:00:26</td>\n",
       "    </tr>\n",
       "  </tbody>\n",
       "</table>\n",
       "</div>"
      ],
      "text/plain": [
       "                                                      id  replyCount  \\\n",
       "40493  Ugx5Rg6o-U7AXvF2nLR4AaABAg.9EBmP0yKytl9EBmejKP6-O         NaN   \n",
       "40494  Ugx5Rg6o-U7AXvF2nLR4AaABAg.9EBmP0yKytl9EBmY9XI4Z7         NaN   \n",
       "40495  Ugx5Rg6o-U7AXvF2nLR4AaABAg.9EBmP0yKytl9EBmT8TgGtM         NaN   \n",
       "40496  Ugx5Rg6o-U7AXvF2nLR4AaABAg.9EBmP0yKytl9EBmSMrR2N9         NaN   \n",
       "40497  Ugx5Rg6o-U7AXvF2nLR4AaABAg.9EBmP0yKytl9EBmQT_Kq0l         NaN   \n",
       "\n",
       "       likeCount         published_at      author_name  \\\n",
       "40493          0  2020-09-29 14:02:59       it's me RG   \n",
       "40494          2  2020-09-29 14:01:57         Sea Bass   \n",
       "40495          1  2020-09-29 14:01:16  Ludovico Trozzi   \n",
       "40496          1  2020-09-29 14:01:09              J W   \n",
       "40497          1  2020-09-29 14:00:54    Fabio Le Beau   \n",
       "\n",
       "                             text           authorChannelId  is_reply  \\\n",
       "40493                          GG  UCNIkDLTBxw9qkYb2CnkgReg         1   \n",
       "40494  wow ur actually first. gg.  UCiTZZHaSX6RdLBZPjLXFH4A         1   \n",
       "40495          This time for real  UCC3SLpVU1OJYOCMvHviIjZw         1   \n",
       "40496                        dang  UCsN2l1TtzmL0W1pBiIbBrJQ         1   \n",
       "40497                       y e s  UCsjeCGNgbyf3wuTjNvbDH2w         1   \n",
       "\n",
       "                         threadId     video_id   video_published_at  \n",
       "40493  Ugx5Rg6o-U7AXvF2nLR4AaABAg  wbR-5mHI6bo  2020-09-29 14:00:26  \n",
       "40494  Ugx5Rg6o-U7AXvF2nLR4AaABAg  wbR-5mHI6bo  2020-09-29 14:00:26  \n",
       "40495  Ugx5Rg6o-U7AXvF2nLR4AaABAg  wbR-5mHI6bo  2020-09-29 14:00:26  \n",
       "40496  Ugx5Rg6o-U7AXvF2nLR4AaABAg  wbR-5mHI6bo  2020-09-29 14:00:26  \n",
       "40497  Ugx5Rg6o-U7AXvF2nLR4AaABAg  wbR-5mHI6bo  2020-09-29 14:00:26  "
      ]
     },
     "execution_count": 20,
     "metadata": {},
     "output_type": "execute_result"
    }
   ],
   "source": [
    "res = extract_comments_from_data_tool(tab_file)\n",
    "res.tail()"
   ]
  },
  {
   "cell_type": "code",
   "execution_count": 15,
   "metadata": {},
   "outputs": [
    {
     "data": {
      "text/plain": [
       "'2020-09-29 14:00:26'"
      ]
     },
     "execution_count": 15,
     "metadata": {},
     "output_type": "execute_result"
    }
   ],
   "source": [
    "        info = pd.read_csv(\"data_raw/datatool_manual/\" + tab_file[:-12] + \"basicinfo.tab\",sep='\\t', names=[0, 1])\n",
    "        info = info.T\n",
    "        info.columns = info.T[0]\n",
    "        info = info.drop(0)\n",
    "        info.published.iloc[0]"
   ]
  }
 ],
 "metadata": {
  "kernelspec": {
   "display_name": "Python 3",
   "language": "python",
   "name": "python3"
  },
  "language_info": {
   "codemirror_mode": {
    "name": "ipython",
    "version": 3
   },
   "file_extension": ".py",
   "mimetype": "text/x-python",
   "name": "python",
   "nbconvert_exporter": "python",
   "pygments_lexer": "ipython3",
   "version": "3.6.9"
  }
 },
 "nbformat": 4,
 "nbformat_minor": 4
}
