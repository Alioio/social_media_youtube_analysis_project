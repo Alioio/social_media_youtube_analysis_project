{
 "cells": [
  {
   "cell_type": "markdown",
   "metadata": {},
   "source": [
    "# Convert tab files obtained from Youtube Data Tool into csv\n",
    "Execute the whole notebook. \n",
    "\n",
    "This will convert all tab files in data_raw/dataool_manual directory into a csv file of the desired shape (same columns as with data_scraping.ipynb).\n",
    "\n",
    "Comments will be stored in ../comments\n",
    "\n",
    "tab files will be moved to /processed"
   ]
  },
  {
   "cell_type": "code",
   "execution_count": 1,
   "metadata": {},
   "outputs": [],
   "source": [
    "import pandas as pd\n",
    "from pathlib import Path\n",
    "import os\n",
    "import re"
   ]
  },
  {
   "cell_type": "code",
   "execution_count": 2,
   "metadata": {},
   "outputs": [],
   "source": [
    "def extract_comments_from_data_tool(tab_file):\n",
    "    \"\"\"\n",
    "    tabfile: name of comments.tab file in data_raw/datatool_manual\n",
    "    \n",
    "    Stores comments retrieved manually through the youtube data tools in the same csv format as our pipeline does\n",
    "    Automatically checks if the basicinfo.tab file exists as well.\n",
    "    \"\"\"\n",
    "    \n",
    "    data = pd.read_csv(\"data_raw/datatool_manual/\" + tab_file, sep='\\t', header=(0))\n",
    "    data['threadId'] = data.id.apply(lambda x: x.split('.')[0])\n",
    "    \n",
    "    try:\n",
    "        info = pd.read_csv(\"data_raw/datatool_manual/\" + tab_file[:-12] + \"basicinfo.tab\",sep='\\t', names=[0, 1])\n",
    "        info = info.T\n",
    "        info.columns = info.T[0]\n",
    "        info = info.drop(0)\n",
    "        \n",
    "        data['video_id'] = info.id.iloc[0]\n",
    "        data['video_published_at'] = info.published.iloc[0]\n",
    "    except:\n",
    "        data['video_id'] = tab_file.split('_')[1]\n",
    "\n",
    "    data.drop(labels=['authorChannelUrl', 'isReplyTo', 'isReplyToName'], axis=1, inplace=True)\n",
    "    data.rename(columns={'isReply':'is_reply', \"publishedAt\":\"published_at\", \"authorName\":\"author_name\"}, inplace=True)\n",
    "    data.to_csv('data_raw/comments/' + tab_file[:-4] + '_comments_' + str(len(data)) + '.csv', index = True) \n",
    "    return data"
   ]
  },
  {
   "cell_type": "code",
   "execution_count": 3,
   "metadata": {},
   "outputs": [],
   "source": [
    "#tab_file = \"videoinfo_wbR-5mHI6bo_2021_02_12-15_36_11_comments.tab\""
   ]
  },
  {
   "cell_type": "code",
   "execution_count": 4,
   "metadata": {},
   "outputs": [],
   "source": [
    "#res = extract_comments_from_data_tool(tab_file)\n",
    "#res.tail()"
   ]
  },
  {
   "cell_type": "code",
   "execution_count": 5,
   "metadata": {},
   "outputs": [],
   "source": [
    "def process_folder():\n",
    "    ''' Applies extract_comments_from_data_tool() to all comments.tab files in the datatool_manual folder.\n",
    "        Then moves them to /processed\n",
    "    '''\n",
    "    csv_folder = Path(\"data_raw/datatool_manual\").absolute()\n",
    "    for f in csv_folder.iterdir():\n",
    "        if f.name.endswith('comments.tab'):\n",
    "            extract_comments_from_data_tool(f.name)\n",
    "            #tab_name = re.split('/',str(f))[-1]\n",
    "            dir_name = str(f)[:-len(f.name)]\n",
    "            os.rename(str(f), dir_name + 'processed/' + f.name)\n",
    "            try:\n",
    "                os.rename(str(f)[:-12] + \"basicinfo.tab\", dir_name + 'processed/' + f.name[:-12] + \"basicinfo.tab\")\n",
    "            except:\n",
    "                pass"
   ]
  },
  {
   "cell_type": "code",
   "execution_count": 6,
   "metadata": {},
   "outputs": [],
   "source": [
    "process_folder()"
   ]
  },
  {
   "cell_type": "code",
   "execution_count": null,
   "metadata": {},
   "outputs": [],
   "source": []
  }
 ],
 "metadata": {
  "kernelspec": {
   "display_name": "Python 3",
   "language": "python",
   "name": "python3"
  },
  "language_info": {
   "codemirror_mode": {
    "name": "ipython",
    "version": 3
   },
   "file_extension": ".py",
   "mimetype": "text/x-python",
   "name": "python",
   "nbconvert_exporter": "python",
   "pygments_lexer": "ipython3",
   "version": "3.7.3"
  }
 },
 "nbformat": 4,
 "nbformat_minor": 4
}
