{
 "cells": [
  {
   "cell_type": "code",
   "execution_count": 1,
   "metadata": {},
   "outputs": [],
   "source": [
    "import pandas as pd\n",
    "import numpy as np\n",
    "import os\n",
    "import requests\n",
    "import json\n",
    "import matplotlib.pyplot as plt\n",
    "import pickle"
   ]
  },
  {
   "cell_type": "code",
   "execution_count": 2,
   "metadata": {},
   "outputs": [],
   "source": [
    "pd.set_option('display.max_rows', None)\n",
    "pd.set_option('display.max_columns', None)\n",
    "pd.set_option('display.width', None)\n",
    "pd.set_option('display.max_colwidth', None)"
   ]
  },
  {
   "cell_type": "code",
   "execution_count": 40,
   "metadata": {},
   "outputs": [
    {
     "name": "stdout",
     "output_type": "stream",
     "text": [
      "67\n",
      "['UCD1f98flC-iGfL5b1Jy3JTQ', 'UC95vjQ1yeJ4X8rWfoYTc8tg', 'UCLWIa6c0krklRTq4VYQxxEQ', 'UCfgnvY8bNlFUN2sXvhNehyg', 'UCAEKdMHOWz0i5-rEa_fF8Aw', 'UCiYlEf7SC0Mqq5yBZEa217g', 'UC-ylP_ppC9Znx5O3xJ4LodQ', 'UCK7GySMThI6Hohtx__UYl5g', 'UC2uWMuKyyNQ7PI615brcMDw', 'UCo7AJs3bzP4rapONqTDYzbg', 'UCFigH8Nyi-QLJksIo2tLjuQ', 'UCQz_UQjQIhWlP-usnvuQRnA', 'UCzh2UsBAdG27V13OYZ4xLeA', 'UCfwjd5aIKlgyw1CrS26geSA', 'UCW9WD2bJmAvf5Eyly_CqVVw', 'UCRg-VhuaYVCpoe7nrB-xrGw', 'UCpgJ2pPUrxklN3-TvAXZjaA', 'UCOwH74qcARVFv1YnNykPeWQ', 'UC3Zy57El6_5ISgf68m8whAg', 'UCH8wfx6W4ctGVRsC1AHU6Tg', 'UCmhbJ8eVQAjOotX3QoQQ5Kw', 'UCNFM6Qdz6h5gM76MpdR5a9Q', 'UCfZxaiURlU2BzZ8sDrpDQHw', 'UCYXPJscuMCfyysXvbOkck5Q', 'UCbPjUfYtRMp2zceekFumqdw', 'UCYUQBu3Ef5qgWksKOA0iPjg', 'UChWj38b1fdC4O51gKzsOgqg', 'UCLOm0rnORvOUYMMZbsVizjA', 'UCNhaiLE0lecWUSgqpvSqAPQ', 'UC2w7MEK0MPtKNpxYHrW9W4A', 'UCLJ448Ea-Z9Q2X5mtQPI54Q', 'UCbuWldlPVfZnif_gv3kNu7g', 'UCPZg5rOiD0ojbgf-FwmTKXg', 'UCF6yTL7Q32JD9XY6t0RPlFQ', 'UCmJ7BMNfNFH6QV7yHUVynDA', 'UC40hKDUsjLiy_L3RxnvZEIQ', 'UCjW4EAmDcoPrHBuo0E6dl5w', 'UCK1KSZIkIv0MdaHTUxMry0w', 'UCh-q4vuBUZuNFar-fxfuQcA', 'UCtDtdGF7vRh355GvECwFIIg', 'UCsHu4VALUmKB3c2XsgdFKxA', 'UCIHQQ1mJkGjPNxCzuz_lfaw', 'UCTnfPHhtK2qTp0OjDl0wNtg', 'UC0jDJqdKsB-slq_NVEDRSbA', 'UCpzMTCYoh5MTC5YbaddH24w', 'UCcY6GczEv8jUOrDZVVtrkwA', 'UC5HgwznWq0DguPYeH6cR2Kw', 'UCJRirO-r6s4oz4YsdSQk6cA', 'UCsgSvuMUNtbpXbU2mN-ChRA', 'UCfZvLlpHqkWUyfnWaf77Y1A', 'UCozgyipfue_cPlOicBixKYw', 'UCcrROA3wjSQIyk1oLZC1FRQ', 'UCKy_12eLV7n7Flg6ZqIZh6g', 'UCJSOFys-r8cYWE_b_FJwTFw', 'UCxAqn57F8851p8vQxmE0waw', 'UCqG5DHLZcg-s-KvRZyXk8uA', 'UCMICD7vL2dXCNc_BUiES5AA', 'UCqB5nhLL31lVG3JeGbKxQDA', 'UCcf982p4ZDQIfcvOzQRe_yQ', 'UC9nPUN2iDgi58BiwFO8gMVA', 'UC5GakB9f_cGtQ0pYtGF77AQ', 'UCnpBxQ2lBArsw_6PyJUa9dg', 'UCYnwmslj2knI9iAiXM4UOgg', 'UCJTc2bg1N2M5kVBmhXYOfZg', 'UCbEDNqVzwrvhSogMHiH7eDQ', 'UCzjmmNyVJUy2kVvXGoy1EjQ', 'UC6UHrjMzcplMFsl0PsAwWhw']\n"
     ]
    }
   ],
   "source": [
    "read_new_users = !True\n",
    "start_int = 133\n",
    "end_int = 200\n",
    "\n",
    "users = []\n",
    "if read_new_users:\n",
    "    temp = pd.read_csv('most_frequent_users.csv', header=(0))\n",
    "    temp.head()\n",
    "    users = temp[\"authorChannelId\"].tolist()\n",
    "    users = users[start_int:end_int]\n",
    "    with open('./temp/users.list', 'wb') as fp:\n",
    "        pickle.dump(users, fp)\n",
    "    \n",
    "else:\n",
    "    with open ('./temp/users.list', 'rb') as fp:\n",
    "        users = pickle.load(fp)\n",
    "\n",
    "print(len(users))\n",
    "print(users)"
   ]
  },
  {
   "cell_type": "code",
   "execution_count": 41,
   "metadata": {},
   "outputs": [],
   "source": [
    "data_path = './all_comments_nonan.csv'"
   ]
  },
  {
   "cell_type": "code",
   "execution_count": 55,
   "metadata": {},
   "outputs": [
    {
     "name": "stdout",
     "output_type": "stream",
     "text": [
      "4101\n"
     ]
    }
   ],
   "source": [
    "drop_vids = False\n",
    "videos = [] \n",
    "\n",
    "if drop_vids:\n",
    "    videos = pd.read_csv(data_path, sep='\\t',low_memory=False, header=(0))\n",
    "    print(len(videos.index))\n",
    "    videos = videos[videos.authorChannelId.isin(users)]\n",
    "    videos.to_csv( \"./temp/selected_comments.csv\", index=False, encoding='utf-8-sig', sep='\\t')\n",
    "else:\n",
    "    videos = pd.read_csv(\"./temp/selected_comments.csv\", sep='\\t',low_memory=False, header=(0))\n",
    "\n",
    "print(len(videos.index))"
   ]
  },
  {
   "cell_type": "code",
   "execution_count": 66,
   "metadata": {},
   "outputs": [
    {
     "name": "stdout",
     "output_type": "stream",
     "text": [
      "16\n",
      "42\n",
      "49\n",
      "78\n",
      "40\n",
      "17\n",
      "39\n",
      "20\n",
      "21\n",
      "80\n",
      "46\n",
      "45\n",
      "32\n",
      "24\n",
      "15\n",
      "47\n",
      "37\n",
      "36\n",
      "50\n",
      "22\n",
      "52\n",
      "30\n",
      "25\n",
      "15\n",
      "25\n",
      "26\n",
      "75\n",
      "107\n",
      "94\n",
      "33\n",
      "16\n",
      "51\n",
      "225\n",
      "20\n",
      "104\n",
      "50\n",
      "14\n",
      "20\n",
      "33\n",
      "46\n",
      "17\n",
      "25\n",
      "15\n",
      "876\n",
      "55\n",
      "27\n",
      "184\n",
      "13\n",
      "30\n",
      "27\n",
      "44\n",
      "29\n",
      "23\n",
      "17\n",
      "46\n",
      "193\n",
      "22\n",
      "207\n",
      "21\n",
      "141\n",
      "24\n",
      "23\n",
      "25\n",
      "58\n",
      "45\n",
      "28\n",
      "69\n",
      "sum: 4101\n"
     ]
    }
   ],
   "source": [
    "sum = 0\n",
    "for user in users:\n",
    "    videos = pd.read_csv(\"./temp/selected_comments.csv\", sep='\\t',low_memory=False, header=(0))\n",
    "    temp = videos[videos.authorChannelId.isin([user])]\n",
    "    temp.to_csv( \"./temp/users/\" + str(user) + \".csv\", index=False, encoding='utf-8-sig', sep='\\t')\n",
    "    print(len(temp.index))\n",
    "    sum = sum + len(temp.index)\n",
    "print(\"sum: \" + str(sum))"
   ]
  },
  {
   "cell_type": "code",
   "execution_count": null,
   "metadata": {},
   "outputs": [],
   "source": []
  },
  {
   "cell_type": "code",
   "execution_count": null,
   "metadata": {},
   "outputs": [],
   "source": []
  },
  {
   "cell_type": "code",
   "execution_count": null,
   "metadata": {},
   "outputs": [],
   "source": []
  },
  {
   "cell_type": "code",
   "execution_count": null,
   "metadata": {},
   "outputs": [],
   "source": []
  },
  {
   "cell_type": "code",
   "execution_count": null,
   "metadata": {},
   "outputs": [],
   "source": []
  },
  {
   "cell_type": "code",
   "execution_count": null,
   "metadata": {},
   "outputs": [],
   "source": []
  },
  {
   "cell_type": "code",
   "execution_count": null,
   "metadata": {},
   "outputs": [],
   "source": []
  },
  {
   "cell_type": "code",
   "execution_count": null,
   "metadata": {},
   "outputs": [],
   "source": []
  },
  {
   "cell_type": "code",
   "execution_count": null,
   "metadata": {},
   "outputs": [],
   "source": []
  },
  {
   "cell_type": "code",
   "execution_count": null,
   "metadata": {},
   "outputs": [],
   "source": []
  },
  {
   "cell_type": "code",
   "execution_count": null,
   "metadata": {},
   "outputs": [],
   "source": []
  },
  {
   "cell_type": "code",
   "execution_count": null,
   "metadata": {},
   "outputs": [],
   "source": []
  },
  {
   "cell_type": "code",
   "execution_count": null,
   "metadata": {},
   "outputs": [],
   "source": []
  },
  {
   "cell_type": "code",
   "execution_count": null,
   "metadata": {},
   "outputs": [],
   "source": []
  },
  {
   "cell_type": "code",
   "execution_count": null,
   "metadata": {},
   "outputs": [],
   "source": []
  },
  {
   "cell_type": "code",
   "execution_count": null,
   "metadata": {},
   "outputs": [],
   "source": []
  },
  {
   "cell_type": "code",
   "execution_count": null,
   "metadata": {},
   "outputs": [],
   "source": []
  },
  {
   "cell_type": "code",
   "execution_count": null,
   "metadata": {},
   "outputs": [],
   "source": []
  },
  {
   "cell_type": "markdown",
   "metadata": {},
   "source": []
  },
  {
   "cell_type": "code",
   "execution_count": null,
   "metadata": {},
   "outputs": [],
   "source": []
  },
  {
   "cell_type": "code",
   "execution_count": null,
   "metadata": {},
   "outputs": [],
   "source": []
  },
  {
   "cell_type": "code",
   "execution_count": null,
   "metadata": {},
   "outputs": [],
   "source": []
  },
  {
   "cell_type": "code",
   "execution_count": null,
   "metadata": {},
   "outputs": [],
   "source": []
  },
  {
   "cell_type": "code",
   "execution_count": null,
   "metadata": {},
   "outputs": [],
   "source": []
  },
  {
   "cell_type": "code",
   "execution_count": null,
   "metadata": {},
   "outputs": [],
   "source": []
  }
 ],
 "metadata": {
  "kernelspec": {
   "display_name": "Python 3",
   "language": "python",
   "name": "python3"
  },
  "language_info": {
   "codemirror_mode": {
    "name": "ipython",
    "version": 3
   },
   "file_extension": ".py",
   "mimetype": "text/x-python",
   "name": "python",
   "nbconvert_exporter": "python",
   "pygments_lexer": "ipython3",
   "version": "3.6.12"
  }
 },
 "nbformat": 4,
 "nbformat_minor": 5
}
