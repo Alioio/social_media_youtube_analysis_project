{
 "cells": [
  {
   "cell_type": "markdown",
   "metadata": {},
   "source": [
    "Check to see if jupyter lab uses the correct python interpreter with '!which python'.\n",
    "It should be something like '/opt/anaconda3/envs/[environment name]/bin/python' (on Mac).\n",
    "If not, try this: https://github.com/jupyter/notebook/issues/3146#issuecomment-352718675"
   ]
  },
  {
   "cell_type": "code",
   "execution_count": 1,
   "metadata": {},
   "outputs": [
    {
     "data": {
      "text/plain": [
       "'C:\\\\Users\\\\moritz\\\\anaconda3\\\\envs\\\\social-2\\\\python.exe'"
      ]
     },
     "execution_count": 1,
     "metadata": {},
     "output_type": "execute_result"
    }
   ],
   "source": [
    "import sys\n",
    "sys.executable\n",
    "#!which python #which does not semm to work on windows"
   ]
  },
  {
   "cell_type": "markdown",
   "metadata": {},
   "source": [
    "# Install dependencies:"
   ]
  },
  {
   "cell_type": "code",
   "execution_count": 2,
   "metadata": {
    "colab": {
     "base_uri": "https://localhost:8080/"
    },
    "id": "H0q7BTlbiCWW",
    "outputId": "32ddd123-4834-4913-f942-038e830d9276"
   },
   "outputs": [],
   "source": [
    "install_packages = False\n",
    "if install_packages:\n",
    "    !conda install tensorflow=2 -y\n",
    "    !conda install -c anaconda pandas -y\n",
    "    !conda install -c conda-forge html2text -y\n",
    "    !conda install -c conda-forge tensorflow-hub -y # !conda install -c akode html2text -y\n",
    "    !conda install -c conda-forge tqdm -y\n",
    "    !conda install -c anaconda scikit-learn -y\n",
    "    !conda install -c conda-forge matplotlib -y\n",
    "    !conda install -c anaconda seaborn -y\n",
    "    print(\"Done\")"
   ]
  },
  {
   "cell_type": "markdown",
   "metadata": {},
   "source": [
    "# Imports"
   ]
  },
  {
   "cell_type": "code",
   "execution_count": 3,
   "metadata": {
    "id": "xD4HKjy9TC-g"
   },
   "outputs": [],
   "source": [
    "#imports\n",
    "import pandas as pd\n",
    "import numpy as np\n",
    "import os\n",
    "import time\n",
    "import tensorflow as tf\n",
    "import tensorflow_hub as hub\n",
    "import zipfile\n",
    "from html2text import HTML2Text\n",
    "from tqdm import tqdm\n",
    "import re\n",
    "from sklearn.metrics import pairwise_distances\n",
    "from sklearn.preprocessing import normalize\n",
    "import matplotlib.pyplot as plt\n",
    "import seaborn as sns"
   ]
  },
  {
   "cell_type": "markdown",
   "metadata": {},
   "source": [
    "# Set pandas print options\n",
    "This will improve readability of printed pandas dataframe.\n"
   ]
  },
  {
   "cell_type": "code",
   "execution_count": 4,
   "metadata": {
    "id": "SEH28FctS6SP"
   },
   "outputs": [],
   "source": [
    "pd.set_option('display.max_rows', None)\n",
    "pd.set_option('display.max_columns', None)\n",
    "pd.set_option('display.width', None)\n",
    "pd.set_option('display.max_colwidth', None)"
   ]
  },
  {
   "cell_type": "markdown",
   "metadata": {},
   "source": [
    "## Set global Parameters\n",
    "Set your parameters here:\n",
    "\n",
    "data_path: In this path put the data you have downloaded with YouTube Data Tools. \n",
    "output_path: Tghe files generated in this notebook will be saved here.\n",
    "\n",
    "url_dict: URLs to models on Tensorflow hub are saved here. Other models are available there.\n",
    "model_type: Define which model you would like to use. Choose one from url_dict\n",
    "\n",
    "new_embeddings: If this is true, new embeddings will be generated and saved at output_path. Otherwise, embeddings are loaded from Disc.\n",
    "\n",
    "\n"
   ]
  },
  {
   "cell_type": "code",
   "execution_count": 21,
   "metadata": {
    "id": "TL7Rvq_TD086"
   },
   "outputs": [
    {
     "name": "stdout",
     "output_type": "stream",
     "text": [
      "input path: C:\\Users\\moritz\\Downloads\\social analizing\\project\\git\\social_media_youtube_analysis_project\\data_raw\\all_comments.csv\n"
     ]
    }
   ],
   "source": [
    "path = os.path.abspath(\"..\")\n",
    "data_path = path + \"\\\\data_raw\\\\all_comments.csv\"\n",
    "\n",
    "output_path = \"./output/\"\n",
    "\n",
    "print(\"input path: \" + data_path)\n",
    "\n",
    "new_embeddings = True\n",
    "\n",
    "url_dict = {\n",
    "            'Transformer' : \"https://tfhub.dev/google/universal-sentence-encoder-large/5\",\n",
    "            'DAN' : \"https://tfhub.dev/google/universal-sentence-encoder/4\",\n",
    "            'Transformer_Multilingual': \"https://tfhub.dev/google/universal-sentence-encoder-multilingual-large/3\"\n",
    "}\n",
    "\n",
    "model_type = 'DAN' #@param ['DAN','Transformer','Transformer_Multilingual']"
   ]
  },
  {
   "cell_type": "markdown",
   "metadata": {},
   "source": [
    "## Create output directory\n",
    "Try to create the directory defined by output_path"
   ]
  },
  {
   "cell_type": "code",
   "execution_count": 22,
   "metadata": {
    "colab": {
     "base_uri": "https://localhost:8080/"
    },
    "id": "NuvhsxjlZFhu",
    "outputId": "436a89b3-9ae8-4f74-f236-4a3f55b64d6d"
   },
   "outputs": [
    {
     "name": "stdout",
     "output_type": "stream",
     "text": [
      "Creation of the directory ./output/ failed\n"
     ]
    }
   ],
   "source": [
    "try:\n",
    "   os.mkdir(output_path)\n",
    "except OSError:\n",
    "  print (\"Creation of the directory %s failed\" % output_path)\n",
    "else:\n",
    "  print (\"Successfully created the directory %s \" % output_path)\n"
   ]
  },
  {
   "cell_type": "markdown",
   "metadata": {
    "id": "VO9QOLP_9DxJ"
   },
   "source": [
    "# Load Data\n",
    "Load you data as a pandas dataframe"
   ]
  },
  {
   "cell_type": "code",
   "execution_count": 23,
   "metadata": {},
   "outputs": [],
   "source": [
    "if new_embeddings:\n",
    "    data = pd.read_csv(data_path,header=(0))\n",
    "    data.head()"
   ]
  },
  {
   "cell_type": "markdown",
   "metadata": {
    "id": "_IUWISh1M5nz"
   },
   "source": [
    "# Preprocessing\n",
    "Preprocess your data:\n",
    "- Drop empty rows\n",
    "- Drop unused columns"
   ]
  },
  {
   "cell_type": "code",
   "execution_count": 24,
   "metadata": {
    "id": "gbU3mk83MBIH"
   },
   "outputs": [],
   "source": [
    "if new_embeddings:\n",
    "    data = data.dropna(subset=['text', 'author_name']) # drop rows with no content\n",
    "    data=data.drop(['id','likeCount'],axis=1)#, 'replyCount','authorChannelUrl','authorChannelId','isReplyTo','isReplyToName'] # drop unused columns\n",
    "    data.head()"
   ]
  },
  {
   "cell_type": "markdown",
   "metadata": {},
   "source": [
    "- remove HTML-tags, links and usernames"
   ]
  },
  {
   "cell_type": "code",
   "execution_count": 25,
   "metadata": {
    "id": "vIgxEvzcM39J"
   },
   "outputs": [
    {
     "name": "stderr",
     "output_type": "stream",
     "text": [
      "100%|███████████████████████████████████████████████████████████████████████████| 9683/9683 [00:00<00:00, 11535.74it/s]\n"
     ]
    },
    {
     "name": "stdout",
     "output_type": "stream",
     "text": [
      "Removed HTML Tags.\n",
      "Removed Links.\n",
      "Removed user names.\n"
     ]
    }
   ],
   "source": [
    "if new_embeddings:\n",
    "    # Remove HTML tags\n",
    "    tqdm.pandas()\n",
    "    h = HTML2Text()\n",
    "    h.ignore_links = True\n",
    "    data['cleaned'] = data['text'].progress_apply(lambda x: h.handle(x))\n",
    "    print( \"Removed HTML Tags.\")\n",
    "\n",
    "    # Remove links\n",
    "    http_link_pattern = r'http\\S+'\n",
    "    bitly_link_pattern = r'bit.ly/\\S+'\n",
    "    data['cleaned'] = data['cleaned'].str.replace(http_link_pattern, '')\n",
    "    data['cleaned'] = data['cleaned'].str.replace(bitly_link_pattern, '')\n",
    "    print( \"Removed Links.\")\n",
    "\n",
    "    # Remove user names\n",
    "    keep_names = [\"earth\", \"Tide\", \"Geologist\", \"A Person\", \"Titanic\", \"adventure\", \"Sun\", \"The United States Of America\"] # user names we want to keep\n",
    "    user_names = [name for name in data['author_name'].unique() if (len(name)> 3 and name not in keep_names)]\n",
    "    data['cleaned'] = data['cleaned'].str.replace('|'.join(map(re.escape, user_names)), '')\n",
    "    print( \"Removed user names.\")"
   ]
  },
  {
   "cell_type": "markdown",
   "metadata": {},
   "source": [
    "# Save or Load preprocessed data\n",
    "\n",
    "Save your data afte preprocessing, or load preprocessed data from disc."
   ]
  },
  {
   "cell_type": "code",
   "execution_count": 26,
   "metadata": {
    "colab": {
     "base_uri": "https://localhost:8080/"
    },
    "id": "W0uP3D5IXvyT",
    "outputId": "ce705b12-d180-438e-8bb7-86a5dfffbdcf"
   },
   "outputs": [
    {
     "data": {
      "text/html": [
       "<div>\n",
       "<style scoped>\n",
       "    .dataframe tbody tr th:only-of-type {\n",
       "        vertical-align: middle;\n",
       "    }\n",
       "\n",
       "    .dataframe tbody tr th {\n",
       "        vertical-align: top;\n",
       "    }\n",
       "\n",
       "    .dataframe thead th {\n",
       "        text-align: right;\n",
       "    }\n",
       "</style>\n",
       "<table border=\"1\" class=\"dataframe\">\n",
       "  <thead>\n",
       "    <tr style=\"text-align: right;\">\n",
       "      <th></th>\n",
       "      <th>Unnamed: 0</th>\n",
       "      <th>threadId</th>\n",
       "      <th>published_at</th>\n",
       "      <th>author_name</th>\n",
       "      <th>text</th>\n",
       "      <th>is_reply</th>\n",
       "      <th>cleaned</th>\n",
       "      <th>video_id</th>\n",
       "      <th>video_published_at</th>\n",
       "    </tr>\n",
       "  </thead>\n",
       "  <tbody>\n",
       "    <tr>\n",
       "      <th>0</th>\n",
       "      <td>0</td>\n",
       "      <td>UgzORANz-QqEpp_NTDd4AaABAg</td>\n",
       "      <td>2021-02-04T14:43:02Z</td>\n",
       "      <td>Casey Foy</td>\n",
       "      <td>I do know something needs to be done all the earthquakes volcanoes flooding tornadoes even the snow we got more then usual. My mom seen a video on TV that oneday they will have to really focus on this. I seen our country is not so much the problem other countries are worse then ours. But we can always do what we can to help our earth.</td>\n",
       "      <td>0.0</td>\n",
       "      <td>I do know  needs to be done all the earthquakes volcanoes flooding\\ntornadoes even the snow we got more then usual. My mom seen a video on TV that\\noneday they will have to really focus on this. I seen our country is not so\\nmuch the problem other countries are worse then ours. But we can always do\\nwhat we can to help our earth.\\n\\n</td>\n",
       "      <td>k1oPVp63eNk</td>\n",
       "      <td>NaN</td>\n",
       "    </tr>\n",
       "    <tr>\n",
       "      <th>1</th>\n",
       "      <td>1</td>\n",
       "      <td>UgyZV_VSA0J5mo7E6Gl4AaABAg</td>\n",
       "      <td>2021-02-03T20:23:48Z</td>\n",
       "      <td>Animals with Tomek</td>\n",
       "      <td>Even one Celcius degree more makes the African wild dogs have less pups! So we have to limit the increase of temperature.</td>\n",
       "      <td>0.0</td>\n",
       "      <td>Even one Celcius degree more makes the African wild dogs have less pups! So we\\nhave to limit the increase of temperature.\\n\\n</td>\n",
       "      <td>k1oPVp63eNk</td>\n",
       "      <td>NaN</td>\n",
       "    </tr>\n",
       "    <tr>\n",
       "      <th>2</th>\n",
       "      <td>2</td>\n",
       "      <td>UgyLv1kdSZ2B8OhXr5x4AaABAg</td>\n",
       "      <td>2021-01-31T21:46:30Z</td>\n",
       "      <td>Matthew Richard</td>\n",
       "      <td>UK has lowered its emissions by a third since Paris.</td>\n",
       "      <td>0.0</td>\n",
       "      <td>UK has lowered its emissions by a third since Paris.\\n\\n</td>\n",
       "      <td>k1oPVp63eNk</td>\n",
       "      <td>NaN</td>\n",
       "    </tr>\n",
       "    <tr>\n",
       "      <th>3</th>\n",
       "      <td>3</td>\n",
       "      <td>UgxLNu-NE8QBvOPsk514AaABAg</td>\n",
       "      <td>2021-01-28T16:33:02Z</td>\n",
       "      <td>Andrew</td>\n",
       "      <td>There is no \"CRISIS\". The biggest issue w this topic, is that most people conflate the environment w Climate Change. Yes, we ALL want to have clean water, clean air - but we cannot control the temp of the planet. The main driving force of that is NOT Man.</td>\n",
       "      <td>0.0</td>\n",
       "      <td>There is no \"CRISIS\". The biggest issue w this topic, is that most people\\nconflate the environment w Climate Change. Yes, we ALL want to have clean\\nwater, clean air - but we cannot control the temp of the planet. The main\\ndriving force of that is NOT Man.\\n\\n</td>\n",
       "      <td>k1oPVp63eNk</td>\n",
       "      <td>NaN</td>\n",
       "    </tr>\n",
       "    <tr>\n",
       "      <th>4</th>\n",
       "      <td>4</td>\n",
       "      <td>UgxLNu-NE8QBvOPsk514AaABAg</td>\n",
       "      <td>2021-02-03T21:08:59Z</td>\n",
       "      <td>Andrew</td>\n",
       "      <td>@YraxZovaldo that sounds like a very scientific response 😃\\nI think you may benefit from reading up a bit more on this subject. Don't get your info from MSM.\\nPlenty of factual, scientic info, from Climate Experts, out there- if you go look for it....with an OPEN mind</td>\n",
       "      <td>1.0</td>\n",
       "      <td>@ that sounds like a very scientific response 😃 I think you may\\nbenefit from reading up a bit more on this subject. Don't get your info from\\nMSM. Plenty of factual, scientic info, from Climate Experts, out there- if you\\ngo look for it....with an OPEN mind\\n\\n</td>\n",
       "      <td>k1oPVp63eNk</td>\n",
       "      <td>NaN</td>\n",
       "    </tr>\n",
       "  </tbody>\n",
       "</table>\n",
       "</div>"
      ],
      "text/plain": [
       "   Unnamed: 0                    threadId          published_at  \\\n",
       "0           0  UgzORANz-QqEpp_NTDd4AaABAg  2021-02-04T14:43:02Z   \n",
       "1           1  UgyZV_VSA0J5mo7E6Gl4AaABAg  2021-02-03T20:23:48Z   \n",
       "2           2  UgyLv1kdSZ2B8OhXr5x4AaABAg  2021-01-31T21:46:30Z   \n",
       "3           3  UgxLNu-NE8QBvOPsk514AaABAg  2021-01-28T16:33:02Z   \n",
       "4           4  UgxLNu-NE8QBvOPsk514AaABAg  2021-02-03T21:08:59Z   \n",
       "\n",
       "          author_name  \\\n",
       "0           Casey Foy   \n",
       "1  Animals with Tomek   \n",
       "2     Matthew Richard   \n",
       "3              Andrew   \n",
       "4              Andrew   \n",
       "\n",
       "                                                                                                                                                                                                                                                                                                                                               text  \\\n",
       "0  I do know something needs to be done all the earthquakes volcanoes flooding tornadoes even the snow we got more then usual. My mom seen a video on TV that oneday they will have to really focus on this. I seen our country is not so much the problem other countries are worse then ours. But we can always do what we can to help our earth.   \n",
       "1                                                                                                                                                                                                                         Even one Celcius degree more makes the African wild dogs have less pups! So we have to limit the increase of temperature.   \n",
       "2                                                                                                                                                                                                                                                                                              UK has lowered its emissions by a third since Paris.   \n",
       "3                                                                                   There is no \"CRISIS\". The biggest issue w this topic, is that most people conflate the environment w Climate Change. Yes, we ALL want to have clean water, clean air - but we cannot control the temp of the planet. The main driving force of that is NOT Man.   \n",
       "4                                                                      @YraxZovaldo that sounds like a very scientific response 😃\\nI think you may benefit from reading up a bit more on this subject. Don't get your info from MSM.\\nPlenty of factual, scientic info, from Climate Experts, out there- if you go look for it....with an OPEN mind   \n",
       "\n",
       "   is_reply  \\\n",
       "0       0.0   \n",
       "1       0.0   \n",
       "2       0.0   \n",
       "3       0.0   \n",
       "4       1.0   \n",
       "\n",
       "                                                                                                                                                                                                                                                                                                                                           cleaned  \\\n",
       "0  I do know  needs to be done all the earthquakes volcanoes flooding\\ntornadoes even the snow we got more then usual. My mom seen a video on TV that\\noneday they will have to really focus on this. I seen our country is not so\\nmuch the problem other countries are worse then ours. But we can always do\\nwhat we can to help our earth.\\n\\n   \n",
       "1                                                                                                                                                                                                                   Even one Celcius degree more makes the African wild dogs have less pups! So we\\nhave to limit the increase of temperature.\\n\\n   \n",
       "2                                                                                                                                                                                                                                                                                         UK has lowered its emissions by a third since Paris.\\n\\n   \n",
       "3                                                                           There is no \"CRISIS\". The biggest issue w this topic, is that most people\\nconflate the environment w Climate Change. Yes, we ALL want to have clean\\nwater, clean air - but we cannot control the temp of the planet. The main\\ndriving force of that is NOT Man.\\n\\n   \n",
       "4                                                                           @ that sounds like a very scientific response 😃 I think you may\\nbenefit from reading up a bit more on this subject. Don't get your info from\\nMSM. Plenty of factual, scientic info, from Climate Experts, out there- if you\\ngo look for it....with an OPEN mind\\n\\n   \n",
       "\n",
       "      video_id  video_published_at  \n",
       "0  k1oPVp63eNk                 NaN  \n",
       "1  k1oPVp63eNk                 NaN  \n",
       "2  k1oPVp63eNk                 NaN  \n",
       "3  k1oPVp63eNk                 NaN  \n",
       "4  k1oPVp63eNk                 NaN  "
      ]
     },
     "execution_count": 26,
     "metadata": {},
     "output_type": "execute_result"
    }
   ],
   "source": [
    "if new_embeddings:\n",
    "  data.to_pickle(output_path+'data_preprocessed'+'.pkl')\n",
    "else:\n",
    "  data = pd.read_pickle(output_path+'data_preprocessed'+'.pkl')\n",
    "data.head()"
   ]
  },
  {
   "cell_type": "markdown",
   "metadata": {
    "id": "5YxXP5PtAFyV"
   },
   "source": [
    "# Produce Text Embeddings with Universal Sentence Encoder"
   ]
  },
  {
   "cell_type": "markdown",
   "metadata": {
    "id": "d_sStH0bXhFD"
   },
   "source": [
    "## Load Model\n",
    "Load the model from TF-hub"
   ]
  },
  {
   "cell_type": "code",
   "execution_count": 27,
   "metadata": {
    "id": "ugb89Xy7XdqR"
   },
   "outputs": [
    {
     "name": "stdout",
     "output_type": "stream",
     "text": [
      "Loading model. This will take some time...\n"
     ]
    }
   ],
   "source": [
    "hub_url = url_dict[model_type]\n",
    "if new_embeddings:\n",
    "  print(\"Loading model. This will take some time...\")\n",
    "  embed = hub.load(hub_url)"
   ]
  },
  {
   "cell_type": "markdown",
   "metadata": {},
   "source": [
    "## Embed Documents\n",
    "Produce embeddings of your documents."
   ]
  },
  {
   "cell_type": "code",
   "execution_count": 28,
   "metadata": {
    "id": "Yz3Qlca7YGEN"
   },
   "outputs": [
    {
     "name": "stdout",
     "output_type": "stream",
     "text": [
      "1 2 3 4 5 6 7 8 9 10 11 12 13 14 15 16 17 18 19 20 21 22 23 24 25 26 27 28 29 30 31 32 33 34 35 36 37 38 39 40 41 42 43 44 45 46 47 48 The embeddings vector is of fixed length 512\n"
     ]
    },
    {
     "data": {
      "text/plain": [
       "TensorShape([9683, 512])"
      ]
     },
     "execution_count": 28,
     "metadata": {},
     "output_type": "execute_result"
    }
   ],
   "source": [
    "if new_embeddings:\n",
    "    for k,g in data.groupby(np.arange(len(data))//200):\n",
    "        if k == 0:\n",
    "            embeddings = embed(g['cleaned'])\n",
    "        else:\n",
    "            embeddings_new = embed(g['cleaned'])\n",
    "            embeddings = tf.concat(values=[embeddings,embeddings_new],axis = 0)\n",
    "            print(k , end =\" \")\n",
    "    print(\"The embeddings vector is of fixed length {}\".format(embeddings.shape[1]))\n",
    "\n",
    "    np.save(output_path+'/embeddings'+model_type+'.npy', embeddings, allow_pickle=True, fix_imports=True)\n",
    "else:\n",
    "    embeddings = np.load(output_path+'/embeddings'+model_type+'.npy', mmap_mode=None, allow_pickle=False, fix_imports=True, encoding='ASCII')\n",
    "\n",
    "embeddings.shape"
   ]
  },
  {
   "cell_type": "markdown",
   "metadata": {
    "id": "oFTi_5lUAnJF"
   },
   "source": [
    "## Calculate Similarity Matrix with angular distance\n",
    "\n",
    "'Following Cer et al. (2018), we first compute\n",
    "the sentence embeddings u, v for an STS sentence\n",
    "pair, and then score the sentence pair similarity\n",
    "based on the angular distance between the two\n",
    "embedding vectors  d = − arccos (uv/||u|| ||v||\u0011).'"
   ]
  },
  {
   "cell_type": "code",
   "execution_count": 29,
   "metadata": {},
   "outputs": [
    {
     "name": "stdout",
     "output_type": "stream",
     "text": [
      "[[1.0000001  0.18648897 0.12007856 ... 0.20715514 0.3323246  0.08807059]\n",
      " [0.18648897 0.99999976 0.05149069 ... 0.03287233 0.11378209 0.08108065]\n",
      " [0.12007856 0.05149069 1.         ... 0.20166531 0.20372054 0.07250679]\n",
      " ...\n",
      " [0.20715514 0.03287233 0.20166531 ... 0.9999999  0.37336153 0.14946935]\n",
      " [0.3323246  0.11378209 0.20372054 ... 0.37336153 1.0000002  0.07230518]\n",
      " [0.08807059 0.08108065 0.07250679 ... 0.14946935 0.07230518 1.        ]]\n"
     ]
    }
   ],
   "source": [
    "from sklearn.metrics.pairwise import cosine_similarity\n",
    "def cos_sim(input_vectors):\n",
    "    similarity = cosine_similarity(input_vectors)\n",
    "    return similarity\n",
    "cosine_similarity_matrix = cos_sim(np.array(embeddings))\n",
    "print(cosine_similarity_matrix)"
   ]
  },
  {
   "cell_type": "markdown",
   "metadata": {},
   "source": [
    "# Plots Similarity \n",
    "Plot and print a heat map showing the semantic contextual similarity between comments."
   ]
  },
  {
   "cell_type": "code",
   "execution_count": 30,
   "metadata": {},
   "outputs": [
    {
     "name": "stderr",
     "output_type": "stream",
     "text": [
      "C:\\Users\\moritz\\anaconda3\\envs\\social-2\\lib\\site-packages\\matplotlib\\backends\\backend_agg.py:238: RuntimeWarning: Glyph 128180 missing from current font.\n",
      "  font.set_text(s, 0.0, flags=flags)\n",
      "C:\\Users\\moritz\\anaconda3\\envs\\social-2\\lib\\site-packages\\matplotlib\\backends\\backend_agg.py:201: RuntimeWarning: Glyph 128180 missing from current font.\n",
      "  font.set_text(s, 0, flags=flags)\n"
     ]
    },
    {
     "data": {
      "image/png": "[encoded data removed]",
      "text/plain": [
       "<Figure size 432x288 with 2 Axes>"
      ]
     },
     "metadata": {},
     "output_type": "display_data"
    }
   ],
   "source": [
    "import seaborn as sns\n",
    "def plot_similarity(labels, features, rotation):\n",
    "  corr = np.inner(features, features)\n",
    "  sns.set(font_scale=1.2)\n",
    "  g = sns.heatmap(\n",
    "      corr,\n",
    "      xticklabels=labels,\n",
    "      yticklabels=labels,\n",
    "      vmin=0,\n",
    "      vmax=1,\n",
    "      cmap=\"YlOrRd\")\n",
    "  g.set_xticklabels(labels, rotation=rotation)\n",
    "  g.set_title(\"Semantic Textual Similarity\")\n",
    "\n",
    "num_samples = 5\n",
    "off_set = 170\n",
    "\n",
    "plot_similarity(data.iloc[off_set:off_set+num_samples]['cleaned'], embeddings[off_set:off_set+num_samples], 90)"
   ]
  },
  {
   "cell_type": "markdown",
   "metadata": {},
   "source": [
    "# Show neighbours of a comment \n",
    "Define which comment to analyze"
   ]
  },
  {
   "cell_type": "code",
   "execution_count": 31,
   "metadata": {},
   "outputs": [
    {
     "name": "stdout",
     "output_type": "stream",
     "text": [
      "Gat this to trending! And leaders, do  about it!\n",
      "\n",
      "\n"
     ]
    }
   ],
   "source": [
    "comment_index = 171\n",
    "comment = data[\"cleaned\"][comment_index]\n",
    "comment_list = data[\"cleaned\"].tolist()\n",
    "print(comment)"
   ]
  },
  {
   "cell_type": "markdown",
   "metadata": {},
   "source": [
    "Print similar comments."
   ]
  },
  {
   "cell_type": "code",
   "execution_count": 32,
   "metadata": {},
   "outputs": [
    {
     "name": "stdout",
     "output_type": "stream",
     "text": [
      "Top similar comment 1: Gat this to trending! And leaders, do  about it!\n",
      "\n",
      "\n",
      "Top similar comment 2: Gat this to trending! And leaders, do  about it!\n",
      "\n",
      "\n",
      "Top similar comment 3: Gat this to trending! And leaders, do  about it!\n",
      "\n",
      "\n",
      "Top similar comment 4: Gat this to trending! And leaders, do  about it!\n",
      "\n",
      "\n",
      "Top similar comment 5: @ What leaders and how do they do that exactly?\n",
      "\n",
      "\n",
      "Top similar comment 6: @ What leaders and how do they do that exactly?\n",
      "\n",
      "\n",
      "Top similar comment 7: @ What leaders and how do they do that exactly?\n",
      "\n",
      "\n",
      "Top similar comment 8: @ What leaders and how do they do that exactly?\n",
      "\n",
      "\n",
      "Top similar comment 9: Hmm..why don't the global leaders sit down and come to a unanimous agreement\n",
      "to improve humanity..\n",
      "\n",
      "\n",
      "Top similar comment 10: Hmm..why don't the global leaders sit down and come to a unanimous agreement\n",
      "to improve humanity..\n",
      "\n",
      "\n",
      "Top similar comment 11: American Leadership at its best! Boycott MSM\n",
      "\n",
      "\n",
      "Top similar comment 12: All these leaders are left-wingers who were counting on extra cash from us.\n",
      "\n",
      "\n",
      "Top similar comment 13: \"Lead and they will follow...\"\n",
      "\n",
      "\n",
      "Top similar comment 14: \"Lead and they will follow...\"\n",
      "\n",
      "\n",
      "Top similar comment 15: \"Lead and they will follow...\"\n",
      "\n",
      "\n",
      "Top similar comment 16: OBAMA WOULDN'T KNOW LEADERSHIP IF IT CAME UP TO HIM AND.BIT HIM IN THE ASS\n",
      "\n",
      "\n",
      "Top similar comment 17: Stop listning to dmfp and fox!!\n",
      "\n",
      "\n",
      "Top similar comment 18: Stop listning to dmfp and fox!!\n",
      "\n",
      "\n",
      "Top similar comment 19: Stop listning to dmfp and fox!!\n",
      "\n",
      "\n",
      "Top similar comment 20: omg this guys an idiot. This is going to be a shit show thanks trump and all\n",
      "the dumbies that voted for him\n",
      "\n",
      "\n"
     ]
    }
   ],
   "source": [
    "def get_top_similar(sentence, sentence_list, similarity_matrix, topN):\n",
    "    # find the index of sentence in list\n",
    "    index = sentence_list.index(sentence)\n",
    "    # get the corresponding row in similarity matrix\n",
    "    similarity_row = np.array(similarity_matrix[index, :])\n",
    "    # get the indices of top similar\n",
    "    indices = similarity_row.argsort()[-topN:][::-1]\n",
    "    return [sentence_list[i] for i in indices]\n",
    "\n",
    "\n",
    "for i, value in enumerate(get_top_similar(comment, comment_list, cosine_similarity_matrix, 20)):\n",
    "  print(\"Top similar comment {}: {}\".format(i+1, value))"
   ]
  },
  {
   "cell_type": "code",
   "execution_count": null,
   "metadata": {},
   "outputs": [],
   "source": []
  },
  {
   "cell_type": "code",
   "execution_count": null,
   "metadata": {},
   "outputs": [],
   "source": []
  },
  {
   "cell_type": "code",
   "execution_count": null,
   "metadata": {},
   "outputs": [],
   "source": []
  },
  {
   "cell_type": "code",
   "execution_count": null,
   "metadata": {},
   "outputs": [],
   "source": []
  },
  {
   "cell_type": "code",
   "execution_count": null,
   "metadata": {},
   "outputs": [],
   "source": []
  },
  {
   "cell_type": "code",
   "execution_count": null,
   "metadata": {},
   "outputs": [],
   "source": []
  },
  {
   "cell_type": "code",
   "execution_count": null,
   "metadata": {},
   "outputs": [],
   "source": []
  }
 ],
 "metadata": {
  "colab": {
   "collapsed_sections": [],
   "name": "USE_Experiments_new.ipynb",
   "provenance": [],
   "toc_visible": true
  },
  "kernelspec": {
   "display_name": "Python 3",
   "language": "python",
   "name": "python3"
  },
  "language_info": {
   "codemirror_mode": {
    "name": "ipython",
    "version": 3
   },
   "file_extension": ".py",
   "mimetype": "text/x-python",
   "name": "python",
   "nbconvert_exporter": "python",
   "pygments_lexer": "ipython3",
   "version": "3.6.12"
  }
 },
 "nbformat": 4,
 "nbformat_minor": 4
}
