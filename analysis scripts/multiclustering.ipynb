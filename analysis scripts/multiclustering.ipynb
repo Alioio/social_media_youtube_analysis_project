{
 "cells": [
  {
   "cell_type": "code",
   "execution_count": 25,
   "metadata": {},
   "outputs": [],
   "source": [
    "from PIL import Image\n",
    "import glob\n",
    "import pandas as pd\n",
    "import numpy as np\n",
    "import os\n",
    "import time\n",
    "import matplotlib.pyplot as plt\n",
    "import umap\n",
    "from sklearn_extra.cluster import KMedoids\n",
    "import seaborn as sns\n",
    "#from sklearn.cluster import AgglomerativeClustering, DBSCAN, KMeans, OPTICS\n",
    "from sklearn.metrics import silhouette_samples, silhouette_score, pairwise_distances"
   ]
  },
  {
   "cell_type": "code",
   "execution_count": 26,
   "metadata": {},
   "outputs": [],
   "source": [
    "output_path = \"./output/\"\n",
    "model_type = 'DAN' #@param ['DAN','Transformer','Transformer_Multilingual']"
   ]
  },
  {
   "cell_type": "markdown",
   "metadata": {},
   "source": [
    "the following codesnippet is partly from https://pythonprogramming.altervista.org/png-to-gif/"
   ]
  },
  {
   "cell_type": "code",
   "execution_count": 27,
   "metadata": {},
   "outputs": [],
   "source": [
    "def gif_output():\n",
    "    frames = []\n",
    "    imgs = glob.glob(\"./output/clusterpngs/*.png\")\n",
    "    for i in imgs:\n",
    "        new_frame = Image.open(i)\n",
    "        frames.append(new_frame)\n",
    "\n",
    "    # Save into a GIF file that loops forever\n",
    "    frames[0].save('./output/animated_plot.gif', format='GIF',\n",
    "                   append_images=frames[1:],\n",
    "                   save_all=True,\n",
    "                   duration=500, loop=0)"
   ]
  },
  {
   "cell_type": "code",
   "execution_count": 28,
   "metadata": {},
   "outputs": [],
   "source": [
    "# Save and load your data after clustering\n",
    "\n",
    "def save_results():\n",
    "    data.to_pickle(output_path+'data_clustered'+'.pkl')\n",
    "    \n",
    "def load_results():\n",
    "    data = pd.read_pickle(output_path+'data_clustered'+'.pkl')\n",
    "    \n",
    "pd.set_option('display.max_rows', None)\n",
    "pd.set_option('display.max_columns', None)\n",
    "pd.set_option('display.width', None)\n",
    "pd.set_option('display.max_colwidth', None)"
   ]
  },
  {
   "cell_type": "markdown",
   "metadata": {},
   "source": [
    "# Load Data\n",
    "Load the preprocessed data as a pandas dataframe.\n",
    "And load the embeddings as a numpy ndarray (a matrix in our case)."
   ]
  },
  {
   "cell_type": "code",
   "execution_count": 29,
   "metadata": {},
   "outputs": [
    {
     "name": "stdout",
     "output_type": "stream",
     "text": [
      "n_clusters: 2 silhouette_avg: 0.4028136\n",
      "n_clusters: 102 silhouette_avg: 0.33040905\n",
      "n_clusters: 202 silhouette_avg: 0.34141842\n",
      "n_clusters: 302 silhouette_avg: 0.3478986\n",
      "n_clusters: 402 silhouette_avg: 0.36211285\n",
      "n_clusters: 502 silhouette_avg: 0.3795514\n",
      "n_clusters: 602 silhouette_avg: 0.40484145\n",
      "n_clusters: 702 silhouette_avg: 0.42373362\n",
      "n_clusters: 802 silhouette_avg: 0.44458672\n",
      "n_clusters: 902 silhouette_avg: 0.46942234\n"
     ]
    },
    {
     "data": {
      "image/png": "[encoded data removed]",
      "text/plain": [
       "<Figure size 432x288 with 1 Axes>"
      ]
     },
     "metadata": {
      "needs_background": "light"
     },
     "output_type": "display_data"
    }
   ],
   "source": [
    "data = pd.read_pickle(output_path+'data_preprocessed'+'.pkl')\n",
    "labels_default = np.zeros(len(data.index))-1\n",
    "data['label_manual'] = labels_default\n",
    "embeddings = np.load(output_path+'/embeddings'+model_type+'.npy', mmap_mode=None, allow_pickle=False, fix_imports=True, encoding='ASCII')\n",
    "\n",
    "# Set the number of dimensions to reduce to\n",
    "num_dimensions =100\n",
    "\n",
    "reducer_clustering = umap.UMAP(n_neighbors=50, \n",
    "                     n_components=num_dimensions, \n",
    "                     metric='cosine', \n",
    "                     #n_epochs=200, \n",
    "                     learning_rate=.5,\n",
    "                     init='spectral', \n",
    "                     min_dist=0,\n",
    "                     #spread=5.0, \n",
    "                     #set_op_mix_ratio=1.0, \n",
    "                     #local_connectivity=1.0, \n",
    "                     #negative_sample_rate=5, \n",
    "                     #transform_queue_size=4.0, \n",
    "                     force_approximation_algorithm=True, \n",
    "                     unique=True)\n",
    "embeddings_umap = reducer_clustering.fit_transform(embeddings)\n",
    "\n",
    "#optimize number of clusters\n",
    "optimize_number_of_clusters = True#@param {type:'boolean'}\n",
    "\n",
    "min_clusters=2 \n",
    "max_clusters=1000 \n",
    "step=100 \n",
    "\n",
    "if optimize_number_of_clusters:\n",
    "    rows_list = []\n",
    "    inertias = []\n",
    "    n_clusters = []\n",
    "    silouette_scores = []\n",
    "    init_param = 'k-medoids++' #@param ['random', 'heuristic', 'k-medoids++']\n",
    "    random_state_param=1234 #@param {type:'number'}\n",
    "    for i in range(min_clusters,max_clusters, step):\n",
    "        temp_clustering = KMedoids(n_clusters=i, metric='euclidean', init=init_param, max_iter=200, random_state=random_state_param).fit(embeddings_umap)\n",
    "        silhouette_avg = silhouette_score(embeddings_umap, temp_clustering.labels_)\n",
    "        print(\"n_clusters:\",i, \"silhouette_avg:\",silhouette_avg)\n",
    "        silhouette_dict = {'number of clusters': i, 'silhouette average': silhouette_avg}\n",
    "        rows_list.append(silhouette_dict)\n",
    "    results = pd.DataFrame(rows_list)\n",
    "    sns.lineplot(x = 'number of clusters', y = 'silhouette average',data = results)"
   ]
  },
  {
   "cell_type": "code",
   "execution_count": 30,
   "metadata": {},
   "outputs": [],
   "source": [
    "def clustering(clusters):\n",
    "    number_of_clusters =  clusters\n",
    "    init_param = 'k-medoids++' #@param ['random', 'heuristic', 'k-medoids++']\n",
    "    clustering_model = KMedoids(n_clusters=number_of_clusters,\n",
    "                                metric='cosine', \n",
    "                                init=init_param, \n",
    "                                max_iter=150, \n",
    "                                random_state=None).fit(embeddings_umap)\n",
    "    clustering_model\n",
    "    labels = clustering_model.labels_\n",
    "    data[\"label_kmedoids\"] = labels\n",
    "    # print(\"cluster\",\"members\", data[\"label_kmedoids\"].value_counts().sort_values())\n",
    "\n",
    "    clustering_model.inertia_\n",
    "\n",
    "    medoids_indices = clustering_model.medoid_indices_\n",
    "    \n",
    "    #calculate distances\n",
    "    distances = np.diag(pairwise_distances(X = clustering_model.cluster_centers_[labels], Y = embeddings_umap[:], metric='cosine'))\n",
    "    data[\"distance_kmedoids\"] = distances\n",
    "    \n",
    "    num_dimensions =2\n",
    "\n",
    "    reducer_visualization = umap.UMAP(n_neighbors=50, \n",
    "                                  n_components=num_dimensions, \n",
    "                                  metric='cosine', \n",
    "                                  output_metric='euclidean', \n",
    "                                  #n_epochs=200, \n",
    "                                  learning_rate=.5,\n",
    "                                  init='spectral', \n",
    "                                  min_dist=.1,\n",
    "                                  spread=5.0, \n",
    "                                  set_op_mix_ratio=1.0, \n",
    "                                  local_connectivity=1.0, \n",
    "                                  negative_sample_rate=5, \n",
    "                                  transform_queue_size=4.0, \n",
    "                                  force_approximation_algorithm=True, \n",
    "                                  unique=True)\n",
    "    embeddings_umap_2d = reducer_visualization.fit_transform(embeddings)\n",
    "    \n",
    "    #@markdown Set the color palette used for visualizing different clusters\n",
    "    palette_param = \"cubehelix\" #@param ['Accent','cubehelix', \"tab10\", 'Paired', \"Spectral\"]\n",
    "    #@markdown Set opacity of data points (1 = opaque, 0 = invisible)\n",
    "    alpha_param = 0.80 #@param {type:\"slider\", min:0, max:1, step:0.01}\n",
    "\n",
    "\n",
    "    plot = sns.relplot(x = embeddings_umap_2d[:, 0], y = embeddings_umap_2d[:, 1],  hue = data['label_kmedoids'], palette = palette_param,alpha = alpha_param,height = 10)\n",
    "    plot.savefig(\"./output/clusterpngs/plot_clusters_\" + str(number_of_clusters) + \".png\")\n",
    "    "
   ]
  },
  {
   "cell_type": "markdown",
   "metadata": {},
   "source": [
    "Cluster from min to max in step intervalls. it is recommended to look at the above figure to choose clustering areas. Operation May take a While"
   ]
  },
  {
   "cell_type": "code",
   "execution_count": 32,
   "metadata": {},
   "outputs": [],
   "source": [
    "min = 80\n",
    "max = 150\n",
    "step = 10\n",
    "for x in range(min, max, step):\n",
    "    clustering(x)"
   ]
  },
  {
   "cell_type": "code",
   "execution_count": 33,
   "metadata": {},
   "outputs": [],
   "source": [
    "gif_output()"
   ]
  },
  {
   "cell_type": "code",
   "execution_count": null,
   "metadata": {},
   "outputs": [],
   "source": []
  }
 ],
 "metadata": {
  "kernelspec": {
   "display_name": "Python 3",
   "language": "python",
   "name": "python3"
  },
  "language_info": {
   "codemirror_mode": {
    "name": "ipython",
    "version": 3
   },
   "file_extension": ".py",
   "mimetype": "text/x-python",
   "name": "python",
   "nbconvert_exporter": "python",
   "pygments_lexer": "ipython3",
   "version": "3.6.12"
  }
 },
 "nbformat": 4,
 "nbformat_minor": 4
}
