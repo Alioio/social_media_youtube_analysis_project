{
 "cells": [
  {
   "cell_type": "code",
   "execution_count": 1,
   "metadata": {},
   "outputs": [],
   "source": [
    "import pandas as pd\n",
    "import numpy as np\n",
    "import os\n",
    "import requests\n",
    "import json\n",
    "import matplotlib.pyplot as plt\n",
    "import pickle\n",
    "\n",
    "pd.set_option('display.max_rows', None)\n",
    "pd.set_option('display.max_columns', None)\n",
    "pd.set_option('display.width', None)\n",
    "pd.set_option('display.max_colwidth', None)\n"
   ]
  },
  {
   "cell_type": "markdown",
   "metadata": {},
   "source": [
    "Read files"
   ]
  },
  {
   "cell_type": "code",
   "execution_count": 6,
   "metadata": {},
   "outputs": [
    {
     "name": "stdout",
     "output_type": "stream",
     "text": [
      "            authorChannelId        author_name  number_of_videos  \\\n",
      "0  UCov_MpgR7_57q7rmQPaCWPA           Sam Lair                89   \n",
      "1  UCY7F_1S11P0JkIoaTCxSHcg        Aaron Oneal                73   \n",
      "2  UCTjA6jHHcAVRQY2dJSHscaQ         Kloko Loko                60   \n",
      "3  UCBKt3KZO4gq1qkf-tXFEcPA  Allysandra Ilagan                55   \n",
      "4  UC0TPdvG3xiLwzMJbdJzNw5g       robert hicks                51   \n",
      "\n",
      "   number_of_comments  Category 1  Category 2  Category 3  \n",
      "0                 152           0         4.0         NaN  \n",
      "1                  80           0         3.0         NaN  \n",
      "2                 704           0         NaN         NaN  \n",
      "3                  57           0         3.0         NaN  \n",
      "4                 872           1         2.0         NaN  \n"
     ]
    }
   ],
   "source": [
    "def frequent_users():\n",
    "    return pd.read_csv('most_frequent_users_with_categories.csv', header=(0))\n",
    "\n",
    "def all_data():\n",
    "    return pd.read_csv(\"./data/all_comments_nonan.csv\", sep='\\t',low_memory = False, header=(0)) \n",
    "print(frequent_users().head())"
   ]
  },
  {
   "cell_type": "markdown",
   "metadata": {},
   "source": [
    "All Data Statistics"
   ]
  },
  {
   "cell_type": "code",
   "execution_count": 3,
   "metadata": {},
   "outputs": [],
   "source": [
    "data = all_data()\n",
    "comments = len(data)\n",
    "replys = int(data['is_reply'].sum())\n",
    "videoCount = len(all_data().groupby(['video_id']).size())\n",
    "autor_name_count = len(all_data().groupby(['author_name']).size())\n",
    "autor_Channel_count = len(all_data().groupby(['authorChannelId']).size())\n",
    "\n",
    "\n"
   ]
  },
  {
   "cell_type": "code",
   "execution_count": 4,
   "metadata": {},
   "outputs": [
    {
     "name": "stdout",
     "output_type": "stream",
     "text": [
      "Total Comments: 1176948\n",
      "Of those Comments, 501035 were replys\n",
      "Making it A Ratio of 0.42570699810017093\n",
      "Number of Videos: 454\n",
      "Number of Author Names: 629176\n",
      "Number of Author Channels: 678128\n"
     ]
    }
   ],
   "source": [
    "print(\"Total Comments: \" + str(comments))\n",
    "print(\"Of those Comments, \" + str(replys) + \" were replys\")\n",
    "print(\"Making it A Ratio of \" + str(replys/comments) + \"\")\n",
    "print(\"Number of Videos: \" + str(videoCount))\n",
    "print(\"Number of Author Names: \" + str(autor_name_count))\n",
    "print(\"Number of Author Channels: \" + str(autor_Channel_count))"
   ]
  },
  {
   "cell_type": "code",
   "execution_count": 5,
   "metadata": {},
   "outputs": [
    {
     "name": "stdout",
     "output_type": "stream",
     "text": [
      "Date Range\n",
      "comment Range\n",
      "0          2021-02-12T08:03:13Z\n",
      "1176947     2016-11-04 00:36:57\n",
      "Name: published_at, dtype: object\n",
      "Video Range\n",
      "0          2019-05-22T15:29:45Z\n",
      "1176947     2016-11-03 19:00:18\n",
      "Name: video_published_at, dtype: object\n"
     ]
    }
   ],
   "source": [
    "test = all_data()\n",
    "print(\"Date Range\")\n",
    "print(\"comment Range\")\n",
    "test.sort_values('published_at')\n",
    "print(pd.concat([test.head(1)['published_at'], test.tail(1)['published_at']]))\n",
    "print(\"Video Range\")\n",
    "test.sort_values('video_published_at')\n",
    "print(pd.concat([test.head(1)['video_published_at'], test.tail(1)['video_published_at']]))"
   ]
  },
  {
   "cell_type": "code",
   "execution_count": 14,
   "metadata": {},
   "outputs": [],
   "source": [
    "if False:\n",
    "    # fill frequent users with data\n",
    "    # df.at[row,'Column']\n",
    "    # df['Course'] = 'Computer science'\n",
    "    temp = frequent_users()\n",
    "    #print(temp.head())\n",
    "    users = temp[\"authorChannelId\"].tolist()\n",
    "    #print(len(users))\n",
    "    #print(users)\n",
    "    preselect_entrys = True\n",
    "    if preselect_entrys:\n",
    "        videos = all_data()\n",
    "        print(len(videos.index))\n",
    "        videos = videos[videos.authorChannelId.isin(users)]\n",
    "        videos.to_csv( \"./selected_comments_stati.csv\", index=False, encoding='utf-8-sig', sep='\\t')\n",
    "\n",
    "def preselect_comments():\n",
    "    return pd.read_csv(\"./selected_comments_stati.csv\", sep='\\t',low_memory=False, header=(0))\n",
    "        \n",
    "\n",
    "    "
   ]
  },
  {
   "cell_type": "markdown",
   "metadata": {},
   "source": [
    "Frequen user stats"
   ]
  },
  {
   "cell_type": "code",
   "execution_count": 16,
   "metadata": {},
   "outputs": [
    {
     "name": "stdout",
     "output_type": "stream",
     "text": [
      "Total Comments: 22509\n",
      "Of those Comments, 18115 were replys\n",
      "Making it A Ratio of 0.8047891954329379\n"
     ]
    }
   ],
   "source": [
    "comments = preselect_comments()\n",
    "\n",
    "freqcommentsNo = len(comments)\n",
    "freqreplys = int(comments['is_reply'].sum())\n",
    "\n",
    "print(\"Total Comments: \" + str(freqcommentsNo))\n",
    "print(\"Of those Comments, \" + str(freqreplys) + \" were replys\")\n",
    "print(\"Making it A Ratio of \" + str(freqreplys/freqcommentsNo) + \"\")\n",
    "\n",
    "\n",
    "\n",
    "\n"
   ]
  },
  {
   "cell_type": "code",
   "execution_count": 39,
   "metadata": {},
   "outputs": [
    {
     "name": "stderr",
     "output_type": "stream",
     "text": [
      "C:\\Users\\moritz\\anaconda3\\envs\\social-2\\lib\\site-packages\\ipykernel_launcher.py:11: SettingWithCopyWarning: \n",
      "A value is trying to be set on a copy of a slice from a DataFrame\n",
      "\n",
      "See the caveats in the documentation: https://pandas.pydata.org/pandas-docs/stable/user_guide/indexing.html#returning-a-view-versus-a-copy\n",
      "  # This is added back by InteractiveShellApp.init_path()\n",
      "C:\\Users\\moritz\\anaconda3\\envs\\social-2\\lib\\site-packages\\ipykernel_launcher.py:12: SettingWithCopyWarning: \n",
      "A value is trying to be set on a copy of a slice from a DataFrame\n",
      "\n",
      "See the caveats in the documentation: https://pandas.pydata.org/pandas-docs/stable/user_guide/indexing.html#returning-a-view-versus-a-copy\n",
      "  if sys.path[0] == '':\n"
     ]
    }
   ],
   "source": [
    "frequ_users = frequent_users()\n",
    "\n",
    "frequ_users['replyCount'] = float('Nan')\n",
    "frequ_users['replyratio_reply_divby_comments'] = float('Nan')\n",
    "\n",
    "\n",
    "for ind in frequ_users.index:\n",
    "    user = frequ_users['authorChannelId'][ind]\n",
    "    videos = preselect_comments()\n",
    "    videos = videos[videos.authorChannelId.isin([user])]\n",
    "    frequ_users['replyCount'][ind] = int(videos['is_reply'].sum())\n",
    "    frequ_users['replyratio_reply_divby_comments'][ind] = round(int(frequ_users['replyCount'][ind]) / int(frequ_users['number_of_comments'][ind]),4)\n",
    "\n",
    "\n",
    "frequ_users.to_csv( \"./frequ_users.csv\", index=False, encoding='utf-8-sig', sep='\\t')\n"
   ]
  },
  {
   "cell_type": "code",
   "execution_count": 40,
   "metadata": {},
   "outputs": [
    {
     "name": "stdout",
     "output_type": "stream",
     "text": [
      "             authorChannelId          author_name  number_of_videos  \\\n",
      "0   UCov_MpgR7_57q7rmQPaCWPA             Sam Lair                89   \n",
      "1   UCY7F_1S11P0JkIoaTCxSHcg          Aaron Oneal                73   \n",
      "2   UCTjA6jHHcAVRQY2dJSHscaQ           Kloko Loko                60   \n",
      "3   UCBKt3KZO4gq1qkf-tXFEcPA    Allysandra Ilagan                55   \n",
      "4   UC0TPdvG3xiLwzMJbdJzNw5g         robert hicks                51   \n",
      "5   UCW2qniYdhBhxq3llQIOEvOQ         Jason Melton                49   \n",
      "6   UCLzHjaUH2lpygLyxdwUCbOA               jmuld1                47   \n",
      "7   UCherSgfuX4ODBO5-pMrThYg       Władca Wymiaru                46   \n",
      "8   UCRkQNJYyK073PsjVao-SWCA              Gary Ha                45   \n",
      "9   UCEJy93A2zYsZMlTlvD1eCtg       old man vollox                44   \n",
      "10  UCWTsXCpWs43jFLsiQv1N5EQ           GEORGELET4                42   \n",
      "11  UCh40_8TY9WBA3WsYeSHMwtA             Dundoril                41   \n",
      "12  UCGyI5Vb4RPWfeWdBtlPgRbw          Bertie Blue                39   \n",
      "13  UC-NmIvin1ZbX4TfZLS9ZHMg              Rick TD                39   \n",
      "14  UCEuZD-r3xQ4eMlnq-9TnaRw            Væringjar                39   \n",
      "15  UClR1pd_a6bOPsiyVR3nlrzw          Franz Maier                37   \n",
      "16  UCVB-Wy4G_qzUyg2iIleT3fg                  JBW                36   \n",
      "17  UCNrXngTy7SQf0tDWQ88qefQ  SuperThunderGoodGuy                34   \n",
      "18  UCwZ8WNe19rFUUMGwuQiy6SQ              P Melby                34   \n",
      "19  UCsEQ_YTy_xoG-iWXy7hLimg        Hosni Mubarak                33   \n",
      "\n",
      "    number_of_comments  Category 1  Category 2  Category 3  replyCount  \\\n",
      "0                  152           0         4.0         NaN        17.0   \n",
      "1                   80           0         3.0         NaN         4.0   \n",
      "2                  704           0         NaN         NaN       690.0   \n",
      "3                   57           0         3.0         NaN         2.0   \n",
      "4                  872           1         2.0         NaN       823.0   \n",
      "5                   52           1         NaN         NaN         3.0   \n",
      "6                  223           1         5.0         NaN       174.0   \n",
      "7                  152           1         4.0         NaN       126.0   \n",
      "8                  175           1         NaN         NaN       115.0   \n",
      "9                   58           1         5.0         NaN         0.0   \n",
      "10                 174           1         NaN         NaN       136.0   \n",
      "11                2277           0         NaN         NaN      2276.0   \n",
      "12                 139           1         NaN         NaN        80.0   \n",
      "13                1706           1         NaN         NaN      1595.0   \n",
      "14                 573           0         NaN         NaN       572.0   \n",
      "15                 317           0         NaN         NaN       317.0   \n",
      "16                 142           0         NaN         NaN        98.0   \n",
      "17                 500           0         NaN         NaN       471.0   \n",
      "18                 108           0         NaN         NaN        57.0   \n",
      "19                 329           0         NaN         NaN       329.0   \n",
      "\n",
      "    replyratio_reply_divby_comments  \n",
      "0                            0.1118  \n",
      "1                            0.0500  \n",
      "2                            0.9801  \n",
      "3                            0.0351  \n",
      "4                            0.9438  \n",
      "5                            0.0577  \n",
      "6                            0.7803  \n",
      "7                            0.8289  \n",
      "8                            0.6571  \n",
      "9                            0.0000  \n",
      "10                           0.7816  \n",
      "11                           0.9996  \n",
      "12                           0.5755  \n",
      "13                           0.9349  \n",
      "14                           0.9983  \n",
      "15                           1.0000  \n",
      "16                           0.6901  \n",
      "17                           0.9420  \n",
      "18                           0.5278  \n",
      "19                           1.0000  \n"
     ]
    }
   ],
   "source": [
    "\n",
    "def load_frequ():\n",
    "    return pd.read_csv(\"./frequ_users.csv\", sep='\\t',low_memory=False, header=(0))\n",
    "\n",
    "\n",
    "\n",
    "print(frequ_users.head(20))"
   ]
  },
  {
   "cell_type": "code",
   "execution_count": 41,
   "metadata": {},
   "outputs": [
    {
     "name": "stdout",
     "output_type": "stream",
     "text": [
      "            number_of_videos  number_of_comments  Category 2  Category 3  \\\n",
      "Category 1                                                                 \n",
      "0                       1548               10518        93.0        10.0   \n",
      "1                       2240               11265       129.0        16.0   \n",
      "3                         32                  76         0.0         0.0   \n",
      "4                         17                  25         0.0         0.0   \n",
      "5                        116                 158        19.0         0.0   \n",
      "6                        145                 365         7.0         7.0   \n",
      "7                         31                 101        12.0         0.0   \n",
      "\n",
      "            replyCount  replyratio_reply_divby_comments  \n",
      "Category 1                                               \n",
      "0               9091.0                          42.4167  \n",
      "1               8626.0                          57.0270  \n",
      "3                  1.0                           0.0588  \n",
      "4                  8.0                           0.3200  \n",
      "5                 41.0                           1.6371  \n",
      "6                254.0                           5.1742  \n",
      "7                 94.0                           1.8315  \n"
     ]
    }
   ],
   "source": [
    "testing = load_frequ()\n",
    "\n",
    "print(testing.groupby(['Category 1']).sum())\n"
   ]
  },
  {
   "cell_type": "code",
   "execution_count": null,
   "metadata": {},
   "outputs": [],
   "source": []
  }
 ],
 "metadata": {
  "kernelspec": {
   "display_name": "Python 3",
   "language": "python",
   "name": "python3"
  },
  "language_info": {
   "codemirror_mode": {
    "name": "ipython",
    "version": 3
   },
   "file_extension": ".py",
   "mimetype": "text/x-python",
   "name": "python",
   "nbconvert_exporter": "python",
   "pygments_lexer": "ipython3",
   "version": "3.6.12"
  }
 },
 "nbformat": 4,
 "nbformat_minor": 4
}
