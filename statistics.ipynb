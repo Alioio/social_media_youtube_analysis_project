{
 "cells": [
  {
   "cell_type": "code",
   "execution_count": 7,
   "metadata": {},
   "outputs": [],
   "source": [
    "import pandas as pd\n",
    "import numpy as np\n",
    "import os\n",
    "import requests\n",
    "import json\n",
    "import matplotlib.pyplot as plt\n",
    "from pathlib import Path"
   ]
  },
  {
   "cell_type": "code",
   "execution_count": 2,
   "metadata": {},
   "outputs": [],
   "source": [
    "pd.set_option('display.max_rows', None)\n",
    "pd.set_option('display.max_columns', None)\n",
    "pd.set_option('display.width', None)\n",
    "pd.set_option('display.max_colwidth', None)"
   ]
  },
  {
   "cell_type": "markdown",
   "metadata": {},
   "source": [
    "## Statistics on comments"
   ]
  },
  {
   "cell_type": "code",
   "execution_count": 3,
   "metadata": {},
   "outputs": [],
   "source": [
    "#read comments stored in multiple csv files in a folder and concat them all in one df. Remove duplicates if there are any."
   ]
  },
  {
   "cell_type": "code",
   "execution_count": 14,
   "metadata": {},
   "outputs": [],
   "source": [
    "def read_folder(csv_folder):\n",
    "    ''' Input is a folder with csv files; return list of data frames.'''\n",
    "    csv_folder = Path(csv_folder).absolute()\n",
    "    csv_files = [f for f in csv_folder.iterdir() if f.name.endswith('csv')]\n",
    "    # the assign() method adds a helper column\n",
    "    dfs = [\n",
    "        pd.read_csv(csv_file)for idx, csv_file in enumerate(csv_files, 1)\n",
    "    ]\n",
    "    return dfs"
   ]
  },
  {
   "cell_type": "code",
   "execution_count": 17,
   "metadata": {},
   "outputs": [],
   "source": [
    "def concat_csv_files(folder_name='data_raw/comments'):\n",
    "    dfs = read_folder(folder_name)\n",
    "    all_comments_df = pd.DataFrame()\n",
    "    for df in dfs:\n",
    "        df = df.drop(['Unnamed: 0'], axis=1)\n",
    "        all_comments_df = pd.concat([all_comments_df, df]).drop_duplicates().reset_index(drop=True) \n",
    "    return all_comments_df"
   ]
  },
  {
   "cell_type": "code",
   "execution_count": 18,
   "metadata": {},
   "outputs": [
    {
     "name": "stdout",
     "output_type": "stream",
     "text": [
      "/home/florian/university/WS2020/Social Media Seminar/social_media_youtube_analysis_project/data_raw/comments\n"
     ]
    }
   ],
   "source": [
    "all_comments_df = concat_csv_files()"
   ]
  },
  {
   "cell_type": "code",
   "execution_count": 19,
   "metadata": {},
   "outputs": [
    {
     "data": {
      "text/html": [
       "<div>\n",
       "<style scoped>\n",
       "    .dataframe tbody tr th:only-of-type {\n",
       "        vertical-align: middle;\n",
       "    }\n",
       "\n",
       "    .dataframe tbody tr th {\n",
       "        vertical-align: top;\n",
       "    }\n",
       "\n",
       "    .dataframe thead th {\n",
       "        text-align: right;\n",
       "    }\n",
       "</style>\n",
       "<table border=\"1\" class=\"dataframe\">\n",
       "  <thead>\n",
       "    <tr style=\"text-align: right;\">\n",
       "      <th></th>\n",
       "      <th>id</th>\n",
       "      <th>threadId</th>\n",
       "      <th>published_at</th>\n",
       "      <th>author_name</th>\n",
       "      <th>text</th>\n",
       "      <th>likeCount</th>\n",
       "      <th>is_reply</th>\n",
       "      <th>cleaned</th>\n",
       "      <th>video_id</th>\n",
       "      <th>video_published_at</th>\n",
       "    </tr>\n",
       "  </thead>\n",
       "  <tbody>\n",
       "    <tr>\n",
       "      <th>0</th>\n",
       "      <td>UgyNCm-SjOqd7jwszL54AaABAg</td>\n",
       "      <td>UgyNCm-SjOqd7jwszL54AaABAg</td>\n",
       "      <td>2021-02-08T14:44:35Z</td>\n",
       "      <td>Richard Fritz</td>\n",
       "      <td>Al Gore laughing all the way to bank</td>\n",
       "      <td>0.0</td>\n",
       "      <td>0.0</td>\n",
       "      <td>NaN</td>\n",
       "      <td>cVkAsPizAbU</td>\n",
       "      <td>NaN</td>\n",
       "    </tr>\n",
       "    <tr>\n",
       "      <th>1</th>\n",
       "      <td>UgxSiQA3GhONLu6aJjx4AaABAg</td>\n",
       "      <td>UgxSiQA3GhONLu6aJjx4AaABAg</td>\n",
       "      <td>2021-02-08T05:57:30Z</td>\n",
       "      <td>Lawrence</td>\n",
       "      <td>The Global Warming idea was simply introduced by the U.S to substitute for the tension which would disappear with the collapse of the Iron Curtain/Berlin Wall in 1989. That's its primary purpose.</td>\n",
       "      <td>0.0</td>\n",
       "      <td>0.0</td>\n",
       "      <td>NaN</td>\n",
       "      <td>cVkAsPizAbU</td>\n",
       "      <td>NaN</td>\n",
       "    </tr>\n",
       "    <tr>\n",
       "      <th>2</th>\n",
       "      <td>UgyMSdJQGbhRJZDlzat4AaABAg</td>\n",
       "      <td>UgyMSdJQGbhRJZDlzat4AaABAg</td>\n",
       "      <td>2021-02-08T05:16:51Z</td>\n",
       "      <td>John Rose</td>\n",
       "      <td>The Paris agreements make no sense if China and India are not following them...  The US and some European countries have recently met their agreement goals and exceed the goals...just about 30% reduction in CO... However, China is at 5 TIMES the CO output than in 1978..due to burning COAL at an all time high... They are burning coal to produce cheap power...this is great for industry and production as well as consumer usage...Ultimately this will increase the China's GNP and GDP... While other countries are trying to go green, this is a burden on industry and very costly, China continues to cheat and disregard the Paris agreements.. Ultimate goal is to increase it's YEN market value....</td>\n",
       "      <td>0.0</td>\n",
       "      <td>0.0</td>\n",
       "      <td>NaN</td>\n",
       "      <td>cVkAsPizAbU</td>\n",
       "      <td>NaN</td>\n",
       "    </tr>\n",
       "    <tr>\n",
       "      <th>3</th>\n",
       "      <td>UgyBw2Ka2wUgZdad5h14AaABAg</td>\n",
       "      <td>UgyBw2Ka2wUgZdad5h14AaABAg</td>\n",
       "      <td>2021-02-07T23:22:19Z</td>\n",
       "      <td>James Everett</td>\n",
       "      <td>Typical Left wing smoke blowing in order to look virtuous without doing anything virtuous.</td>\n",
       "      <td>0.0</td>\n",
       "      <td>0.0</td>\n",
       "      <td>NaN</td>\n",
       "      <td>cVkAsPizAbU</td>\n",
       "      <td>NaN</td>\n",
       "    </tr>\n",
       "    <tr>\n",
       "      <th>4</th>\n",
       "      <td>UgxhcGVxIyoY3dfrNex4AaABAg</td>\n",
       "      <td>UgxhcGVxIyoY3dfrNex4AaABAg</td>\n",
       "      <td>2021-02-07T19:44:39Z</td>\n",
       "      <td>medexamtoolsdotcom</td>\n",
       "      <td>One of the favorite tricks of the political left, is to try to guilt you into supporting something by NAMING it something that makes you think \"how could you possibly be against this\". Another one is VAWA, the violence against women act. You'd think \"how can you be against this act unless you're in favor of violence against women\", but that title hides the fact that it's all about taking civil rights away from men.</td>\n",
       "      <td>0.0</td>\n",
       "      <td>0.0</td>\n",
       "      <td>NaN</td>\n",
       "      <td>cVkAsPizAbU</td>\n",
       "      <td>NaN</td>\n",
       "    </tr>\n",
       "  </tbody>\n",
       "</table>\n",
       "</div>"
      ],
      "text/plain": [
       "                           id                    threadId  \\\n",
       "0  UgyNCm-SjOqd7jwszL54AaABAg  UgyNCm-SjOqd7jwszL54AaABAg   \n",
       "1  UgxSiQA3GhONLu6aJjx4AaABAg  UgxSiQA3GhONLu6aJjx4AaABAg   \n",
       "2  UgyMSdJQGbhRJZDlzat4AaABAg  UgyMSdJQGbhRJZDlzat4AaABAg   \n",
       "3  UgyBw2Ka2wUgZdad5h14AaABAg  UgyBw2Ka2wUgZdad5h14AaABAg   \n",
       "4  UgxhcGVxIyoY3dfrNex4AaABAg  UgxhcGVxIyoY3dfrNex4AaABAg   \n",
       "\n",
       "           published_at         author_name  \\\n",
       "0  2021-02-08T14:44:35Z       Richard Fritz   \n",
       "1  2021-02-08T05:57:30Z            Lawrence   \n",
       "2  2021-02-08T05:16:51Z           John Rose   \n",
       "3  2021-02-07T23:22:19Z       James Everett   \n",
       "4  2021-02-07T19:44:39Z  medexamtoolsdotcom   \n",
       "\n",
       "                                                                                                                                                                                                                                                                                                                                                                                                                                                                                                                                                                                                                                                                                                                      text  \\\n",
       "0                                                                                                                                                                                                                                                                                                                                                                                                                                                                                                                                                                                                                                                                                     Al Gore laughing all the way to bank   \n",
       "1                                                                                                                                                                                                                                                                                                                                                                                                                                                                                                                      The Global Warming idea was simply introduced by the U.S to substitute for the tension which would disappear with the collapse of the Iron Curtain/Berlin Wall in 1989. That's its primary purpose.   \n",
       "2  The Paris agreements make no sense if China and India are not following them...  The US and some European countries have recently met their agreement goals and exceed the goals...just about 30% reduction in CO... However, China is at 5 TIMES the CO output than in 1978..due to burning COAL at an all time high... They are burning coal to produce cheap power...this is great for industry and production as well as consumer usage...Ultimately this will increase the China's GNP and GDP... While other countries are trying to go green, this is a burden on industry and very costly, China continues to cheat and disregard the Paris agreements.. Ultimate goal is to increase it's YEN market value....   \n",
       "3                                                                                                                                                                                                                                                                                                                                                                                                                                                                                                                                                                                                                               Typical Left wing smoke blowing in order to look virtuous without doing anything virtuous.   \n",
       "4                                                                                                                                                                                                                                                                                       One of the favorite tricks of the political left, is to try to guilt you into supporting something by NAMING it something that makes you think \"how could you possibly be against this\". Another one is VAWA, the violence against women act. You'd think \"how can you be against this act unless you're in favor of violence against women\", but that title hides the fact that it's all about taking civil rights away from men.   \n",
       "\n",
       "   likeCount  is_reply  cleaned     video_id  video_published_at  \n",
       "0        0.0       0.0      NaN  cVkAsPizAbU                 NaN  \n",
       "1        0.0       0.0      NaN  cVkAsPizAbU                 NaN  \n",
       "2        0.0       0.0      NaN  cVkAsPizAbU                 NaN  \n",
       "3        0.0       0.0      NaN  cVkAsPizAbU                 NaN  \n",
       "4        0.0       0.0      NaN  cVkAsPizAbU                 NaN  "
      ]
     },
     "execution_count": 19,
     "metadata": {},
     "output_type": "execute_result"
    }
   ],
   "source": [
    "all_comments_df.head()"
   ]
  },
  {
   "cell_type": "code",
   "execution_count": 21,
   "metadata": {},
   "outputs": [],
   "source": [
    "def stats(name_csv_or_df: \"pd.DataFrame or str\") -> pd.DataFrame:\n",
    "    \"\"\"\n",
    "    Creates basic statistics for a given DataFrame or csv file.\n",
    "    \"\"\"\n",
    "    if(isinstance(name_csv_or_df, str)):\n",
    "        df = pd.read_csv('data_raw/' + name_csv_or_df)\n",
    "        name = name_csv_or_df\n",
    "    elif(isinstance(name_csv_or_df, pd.DataFrame)):\n",
    "        df = name_csv_or_df\n",
    "        name = None\n",
    "    else:\n",
    "        raise TypeError(\"stats() takes pandas.DataFrame or string as input.\")\n",
    "        \n",
    "    num_comments = df.shape[0]\n",
    "    num_authors = len(df.author_name.value_counts())\n",
    "    num_single_comment_authors = sum(df.author_name.value_counts()==1)\n",
    "    return pd.DataFrame([[name, num_comments, num_authors, num_single_comment_authors, num_comments/num_authors, df.author_name.value_counts()[0], df.author_name.value_counts().index[0]]], columns=[\"csv_name\", \"number_comments\", \"number_authors\", \"number_single_comment_authors\", \"average_comment_count\", \"most_comments\", \"user_with_most_comments\"]) "
   ]
  },
  {
   "cell_type": "code",
   "execution_count": 22,
   "metadata": {},
   "outputs": [],
   "source": [
    "stat = stats(all_comments_df)"
   ]
  },
  {
   "cell_type": "code",
   "execution_count": 23,
   "metadata": {},
   "outputs": [
    {
     "data": {
      "text/html": [
       "<div>\n",
       "<style scoped>\n",
       "    .dataframe tbody tr th:only-of-type {\n",
       "        vertical-align: middle;\n",
       "    }\n",
       "\n",
       "    .dataframe tbody tr th {\n",
       "        vertical-align: top;\n",
       "    }\n",
       "\n",
       "    .dataframe thead th {\n",
       "        text-align: right;\n",
       "    }\n",
       "</style>\n",
       "<table border=\"1\" class=\"dataframe\">\n",
       "  <thead>\n",
       "    <tr style=\"text-align: right;\">\n",
       "      <th></th>\n",
       "      <th>csv_name</th>\n",
       "      <th>number_comments</th>\n",
       "      <th>number_authors</th>\n",
       "      <th>number_single_comment_authors</th>\n",
       "      <th>average_comment_count</th>\n",
       "      <th>most_comments</th>\n",
       "      <th>user_with_most_comments</th>\n",
       "    </tr>\n",
       "  </thead>\n",
       "  <tbody>\n",
       "    <tr>\n",
       "      <th>0</th>\n",
       "      <td>None</td>\n",
       "      <td>27804</td>\n",
       "      <td>17552</td>\n",
       "      <td>13494</td>\n",
       "      <td>1.584093</td>\n",
       "      <td>70</td>\n",
       "      <td>Rick TD</td>\n",
       "    </tr>\n",
       "  </tbody>\n",
       "</table>\n",
       "</div>"
      ],
      "text/plain": [
       "  csv_name  number_comments  number_authors  number_single_comment_authors  \\\n",
       "0     None            27804           17552                          13494   \n",
       "\n",
       "   average_comment_count  most_comments user_with_most_comments  \n",
       "0               1.584093             70                 Rick TD  "
      ]
     },
     "execution_count": 23,
     "metadata": {},
     "output_type": "execute_result"
    }
   ],
   "source": [
    "stat"
   ]
  },
  {
   "cell_type": "code",
   "execution_count": 24,
   "metadata": {},
   "outputs": [
    {
     "data": {
      "text/plain": [
       "(array([0.0000e+00, 1.3494e+04, 2.1170e+03, 7.8200e+02, 3.9100e+02,\n",
       "        2.5100e+02, 1.4300e+02, 1.0400e+02, 6.8000e+01, 5.3000e+01,\n",
       "        2.7000e+01, 2.7000e+01, 1.6000e+01, 1.4000e+01, 9.0000e+00,\n",
       "        1.2000e+01, 1.0000e+01, 8.0000e+00, 2.0000e+00, 4.0000e+00,\n",
       "        2.0000e+00, 3.0000e+00, 1.0000e+00, 1.0000e+00, 2.0000e+00,\n",
       "        0.0000e+00, 2.0000e+00, 0.0000e+00, 0.0000e+00, 1.0000e+00,\n",
       "        1.0000e+00, 0.0000e+00, 0.0000e+00, 0.0000e+00, 1.0000e+00,\n",
       "        1.0000e+00, 0.0000e+00, 1.0000e+00, 0.0000e+00, 0.0000e+00,\n",
       "        0.0000e+00, 0.0000e+00, 0.0000e+00, 0.0000e+00, 0.0000e+00,\n",
       "        1.0000e+00, 0.0000e+00, 0.0000e+00, 0.0000e+00, 1.0000e+00,\n",
       "        0.0000e+00, 0.0000e+00, 0.0000e+00, 0.0000e+00, 0.0000e+00,\n",
       "        0.0000e+00, 0.0000e+00, 0.0000e+00, 0.0000e+00, 0.0000e+00,\n",
       "        0.0000e+00, 0.0000e+00, 0.0000e+00, 0.0000e+00, 0.0000e+00,\n",
       "        0.0000e+00, 0.0000e+00, 0.0000e+00, 1.0000e+00]),\n",
       " array([ 0,  1,  2,  3,  4,  5,  6,  7,  8,  9, 10, 11, 12, 13, 14, 15, 16,\n",
       "        17, 18, 19, 20, 21, 22, 23, 24, 25, 26, 27, 28, 29, 30, 31, 32, 33,\n",
       "        34, 35, 36, 37, 38, 39, 40, 41, 42, 43, 44, 45, 46, 47, 48, 49, 50,\n",
       "        51, 52, 53, 54, 55, 56, 57, 58, 59, 60, 61, 62, 63, 64, 65, 66, 67,\n",
       "        68, 69]),\n",
       " <a list of 69 Patch objects>)"
      ]
     },
     "execution_count": 24,
     "metadata": {},
     "output_type": "execute_result"
    },
    {
     "data": {
      "image/png": "[encoded data removed]",
      "text/plain": [
       "<Figure size 432x288 with 1 Axes>"
      ]
     },
     "metadata": {
      "needs_background": "light"
     },
     "output_type": "display_data"
    }
   ],
   "source": [
    "hist = plt.hist(all_comments_df.author_name.value_counts(), bins=[i for i in range(stat.most_comments[0])] )"
   ]
  },
  {
   "cell_type": "code",
   "execution_count": 95,
   "metadata": {},
   "outputs": [
    {
     "data": {
      "text/html": [
       "<div>\n",
       "<style scoped>\n",
       "    .dataframe tbody tr th:only-of-type {\n",
       "        vertical-align: middle;\n",
       "    }\n",
       "\n",
       "    .dataframe tbody tr th {\n",
       "        vertical-align: top;\n",
       "    }\n",
       "\n",
       "    .dataframe thead th {\n",
       "        text-align: right;\n",
       "    }\n",
       "</style>\n",
       "<table border=\"1\" class=\"dataframe\">\n",
       "  <thead>\n",
       "    <tr style=\"text-align: right;\">\n",
       "      <th></th>\n",
       "      <th>author_name</th>\n",
       "      <th>text</th>\n",
       "      <th>0</th>\n",
       "    </tr>\n",
       "  </thead>\n",
       "  <tbody>\n",
       "    <tr>\n",
       "      <th>161</th>\n",
       "      <td>Alice Stevens</td>\n",
       "      <td>Big Guy and  his side kick Kamel toe Harris ma...</td>\n",
       "      <td>12</td>\n",
       "    </tr>\n",
       "    <tr>\n",
       "      <th>1031</th>\n",
       "      <td>Gustav</td>\n",
       "      <td>\"The message, then, is that trees can play a s...</td>\n",
       "      <td>12</td>\n",
       "    </tr>\n",
       "    <tr>\n",
       "      <th>1979</th>\n",
       "      <td>Pedro Teixeira</td>\n",
       "      <td>Despacito</td>\n",
       "      <td>15</td>\n",
       "    </tr>\n",
       "    <tr>\n",
       "      <th>1986</th>\n",
       "      <td>Pedro Teixeira</td>\n",
       "      <td>TRUMP 2Q2Q baby</td>\n",
       "      <td>12</td>\n",
       "    </tr>\n",
       "  </tbody>\n",
       "</table>\n",
       "</div>"
      ],
      "text/plain": [
       "         author_name                                               text   0\n",
       "161    Alice Stevens  Big Guy and  his side kick Kamel toe Harris ma...  12\n",
       "1031          Gustav  \"The message, then, is that trees can play a s...  12\n",
       "1979  Pedro Teixeira                                          Despacito  15\n",
       "1986  Pedro Teixeira                                    TRUMP 2Q2Q baby  12"
      ]
     },
     "execution_count": 95,
     "metadata": {},
     "output_type": "execute_result"
    }
   ],
   "source": [
    "df = all_comments_df\n",
    "g = df.groupby([\"author_name\", \"text\"]).size().reset_index()\n",
    "g[g[0]>10]"
   ]
  },
  {
   "cell_type": "code",
   "execution_count": 57,
   "metadata": {},
   "outputs": [
    {
     "data": {
      "text/plain": [
       "Despacito                                                                                                                                                                                                                                                                                                                                                                                                                                                                                                                                                                      15\n",
       "First                                                                                                                                                                                                                                                                                                                                                                                                                                                                                                                                                                          12\n",
       "Big Guy and  his side kick Kamel toe Harris making CHINA Great again ....                                                                                                                                                                                                                                                                                                                                                                                                                                                                                                      12\n",
       "\"The message, then, is that trees can play a significant role in stopping dangerous climate change – provided we plant them in the right places. \"\\nhttps://www.bbc.com/future/article/20200521-planting-trees-doesnt-always-help-with-climate-change\\n\\nThe following organisation makes it easy to contribute with trees, but I'm not sure whether they are up to date with the latest science. Could email them and ask though.\\nhttps://teamtrees.org/                                                                                                                     12\n",
       "TRUMP 2Q2Q baby                                                                                                                                                                                                                                                                                                                                                                                                                                                                                                                                                                12\n",
       "                                                                                                                                                                                                                                                                                                                                                                                                                                                                                                                                                                               ..\n",
       "Mike Leonard you're kidding right                                                                                                                                                                                                                                                                                                                                                                                                                                                                                                                                               1\n",
       "Gary D How could've I expected a coherent argument from an Autistic Russian-bot? Silly me.                                                                                                                                                                                                                                                                                                                                                                                                                                                                                      1\n",
       "when trumpterds are charged a arm and a leg because the water is almost dried up, polluted, from drought, or to much sea water, from all the melted ice caps/ice bergs or when you trumpf supporting 🚜er's crops dont grow because its too damn hot , there is no water due to crazy WEATHER caused by CLIMATE CHANGE you will be too stupid to realize whats going on as you are now!!😳😞  the orange 45 is not going to care!!!! he will be rich enough to buy whatever at any cost! and your family will....well......nevermind we are fucked and so is this country!!!!!     1\n",
       "Gee, America, How is it like with Mickey and Donald in the whitehouse....                                                                                                                                                                                                                                                                                                                                                                                                                                                                                                       1\n",
       "Good job President Trump!                                                                                                                                                                                                                                                                                                                                                                                                                                                                                                                                                       1\n",
       "Name: text, Length: 3432, dtype: int64"
      ]
     },
     "execution_count": 57,
     "metadata": {},
     "output_type": "execute_result"
    }
   ],
   "source": [
    "# Identical comments:\n",
    "df.text.value_counts()"
   ]
  },
  {
   "cell_type": "code",
   "execution_count": null,
   "metadata": {},
   "outputs": [],
   "source": [
    "# Look closer at one comment. All posted by the same user:\n",
    "df[df.text==\"Big Guy and  his side kick Kamel toe Harris making CHINA Great again ....\"]"
   ]
  },
  {
   "cell_type": "code",
   "execution_count": null,
   "metadata": {},
   "outputs": [],
   "source": [
    "df[df.text==\"planet will warm up and it will be Paradise time again\"]"
   ]
  },
  {
   "cell_type": "code",
   "execution_count": 20,
   "metadata": {},
   "outputs": [
    {
     "data": {
      "text/html": [
       "<div>\n",
       "<style scoped>\n",
       "    .dataframe tbody tr th:only-of-type {\n",
       "        vertical-align: middle;\n",
       "    }\n",
       "\n",
       "    .dataframe tbody tr th {\n",
       "        vertical-align: top;\n",
       "    }\n",
       "\n",
       "    .dataframe thead th {\n",
       "        text-align: right;\n",
       "    }\n",
       "</style>\n",
       "<table border=\"1\" class=\"dataframe\">\n",
       "  <thead>\n",
       "    <tr style=\"text-align: right;\">\n",
       "      <th></th>\n",
       "      <th>author_name</th>\n",
       "      <th>video_id</th>\n",
       "    </tr>\n",
       "  </thead>\n",
       "  <tbody>\n",
       "    <tr>\n",
       "      <th>118</th>\n",
       "      <td>Andrew</td>\n",
       "      <td>2</td>\n",
       "    </tr>\n",
       "    <tr>\n",
       "      <th>1576</th>\n",
       "      <td>amf</td>\n",
       "      <td>2</td>\n",
       "    </tr>\n",
       "  </tbody>\n",
       "</table>\n",
       "</div>"
      ],
      "text/plain": [
       "     author_name  video_id\n",
       "118       Andrew         2\n",
       "1576         amf         2"
      ]
     },
     "execution_count": 20,
     "metadata": {},
     "output_type": "execute_result"
    }
   ],
   "source": [
    "# Users who commented under more than a single video:\n",
    "g = df.groupby([\"author_name\"])[\"video_id\"].nunique().reset_index()\n",
    "g[g.video_id>1]"
   ]
  },
  {
   "cell_type": "code",
   "execution_count": 22,
   "metadata": {},
   "outputs": [
    {
     "data": {
      "text/html": [
       "<div>\n",
       "<style scoped>\n",
       "    .dataframe tbody tr th:only-of-type {\n",
       "        vertical-align: middle;\n",
       "    }\n",
       "\n",
       "    .dataframe tbody tr th {\n",
       "        vertical-align: top;\n",
       "    }\n",
       "\n",
       "    .dataframe thead th {\n",
       "        text-align: right;\n",
       "    }\n",
       "</style>\n",
       "<table border=\"1\" class=\"dataframe\">\n",
       "  <thead>\n",
       "    <tr style=\"text-align: right;\">\n",
       "      <th></th>\n",
       "      <th>Unnamed: 0</th>\n",
       "      <th>id</th>\n",
       "      <th>threadId</th>\n",
       "      <th>published_at</th>\n",
       "      <th>author_name</th>\n",
       "      <th>text</th>\n",
       "      <th>likeCount</th>\n",
       "      <th>is_reply</th>\n",
       "      <th>cleaned</th>\n",
       "      <th>video_id</th>\n",
       "      <th>video_published_at</th>\n",
       "    </tr>\n",
       "  </thead>\n",
       "  <tbody>\n",
       "    <tr>\n",
       "      <th>7</th>\n",
       "      <td>7</td>\n",
       "      <td>Ugxk8GL2py0KtjJG-qJ4AaABAg</td>\n",
       "      <td>Ugxk8GL2py0KtjJG-qJ4AaABAg</td>\n",
       "      <td>2021-01-22T17:15:19Z</td>\n",
       "      <td>amf</td>\n",
       "      <td>Would you bet your paycheck on a weather forec...</td>\n",
       "      <td>0.0</td>\n",
       "      <td>0.0</td>\n",
       "      <td>NaN</td>\n",
       "      <td>k1oPVp63eNk</td>\n",
       "      <td>NaN</td>\n",
       "    </tr>\n",
       "    <tr>\n",
       "      <th>1061</th>\n",
       "      <td>7</td>\n",
       "      <td>Ugxk8GL2py0KtjJG-qJ4AaABAg</td>\n",
       "      <td>Ugxk8GL2py0KtjJG-qJ4AaABAg</td>\n",
       "      <td>2021-01-22T17:15:19Z</td>\n",
       "      <td>amf</td>\n",
       "      <td>Would you bet your paycheck on a weather forec...</td>\n",
       "      <td>0.0</td>\n",
       "      <td>0.0</td>\n",
       "      <td>NaN</td>\n",
       "      <td>k1oPVp63eNk</td>\n",
       "      <td>NaN</td>\n",
       "    </tr>\n",
       "    <tr>\n",
       "      <th>2115</th>\n",
       "      <td>1061</td>\n",
       "      <td>UgzuY7xu4MdA_eFHMN14AaABAg</td>\n",
       "      <td>UgzuY7xu4MdA_eFHMN14AaABAg</td>\n",
       "      <td>2021-01-22T17:09:07Z</td>\n",
       "      <td>amf</td>\n",
       "      <td>Would you bet your paycheck on a weather forec...</td>\n",
       "      <td>0.0</td>\n",
       "      <td>0.0</td>\n",
       "      <td>NaN</td>\n",
       "      <td>ykSpM50paoY</td>\n",
       "      <td>NaN</td>\n",
       "    </tr>\n",
       "    <tr>\n",
       "      <th>2116</th>\n",
       "      <td>1062</td>\n",
       "      <td>UgyQlJIm2i_qsmvYOT54AaABAg</td>\n",
       "      <td>UgyQlJIm2i_qsmvYOT54AaABAg</td>\n",
       "      <td>2021-01-22T17:07:13Z</td>\n",
       "      <td>amf</td>\n",
       "      <td>Joe Biden once called state-mandated school in...</td>\n",
       "      <td>0.0</td>\n",
       "      <td>0.0</td>\n",
       "      <td>NaN</td>\n",
       "      <td>ykSpM50paoY</td>\n",
       "      <td>NaN</td>\n",
       "    </tr>\n",
       "    <tr>\n",
       "      <th>3274</th>\n",
       "      <td>7</td>\n",
       "      <td>Ugxk8GL2py0KtjJG-qJ4AaABAg</td>\n",
       "      <td>Ugxk8GL2py0KtjJG-qJ4AaABAg</td>\n",
       "      <td>2021-01-22T17:15:19Z</td>\n",
       "      <td>amf</td>\n",
       "      <td>Would you bet your paycheck on a weather forec...</td>\n",
       "      <td>0.0</td>\n",
       "      <td>0.0</td>\n",
       "      <td>NaN</td>\n",
       "      <td>k1oPVp63eNk</td>\n",
       "      <td>NaN</td>\n",
       "    </tr>\n",
       "    <tr>\n",
       "      <th>4328</th>\n",
       "      <td>1061</td>\n",
       "      <td>UgzuY7xu4MdA_eFHMN14AaABAg</td>\n",
       "      <td>UgzuY7xu4MdA_eFHMN14AaABAg</td>\n",
       "      <td>2021-01-22T17:09:07Z</td>\n",
       "      <td>amf</td>\n",
       "      <td>Would you bet your paycheck on a weather forec...</td>\n",
       "      <td>0.0</td>\n",
       "      <td>0.0</td>\n",
       "      <td>NaN</td>\n",
       "      <td>ykSpM50paoY</td>\n",
       "      <td>NaN</td>\n",
       "    </tr>\n",
       "    <tr>\n",
       "      <th>4329</th>\n",
       "      <td>1062</td>\n",
       "      <td>UgyQlJIm2i_qsmvYOT54AaABAg</td>\n",
       "      <td>UgyQlJIm2i_qsmvYOT54AaABAg</td>\n",
       "      <td>2021-01-22T17:07:13Z</td>\n",
       "      <td>amf</td>\n",
       "      <td>Joe Biden once called state-mandated school in...</td>\n",
       "      <td>0.0</td>\n",
       "      <td>0.0</td>\n",
       "      <td>NaN</td>\n",
       "      <td>ykSpM50paoY</td>\n",
       "      <td>NaN</td>\n",
       "    </tr>\n",
       "    <tr>\n",
       "      <th>6205</th>\n",
       "      <td>7</td>\n",
       "      <td>Ugxk8GL2py0KtjJG-qJ4AaABAg</td>\n",
       "      <td>Ugxk8GL2py0KtjJG-qJ4AaABAg</td>\n",
       "      <td>2021-01-22T17:15:19Z</td>\n",
       "      <td>amf</td>\n",
       "      <td>Would you bet your paycheck on a weather forec...</td>\n",
       "      <td>0.0</td>\n",
       "      <td>0.0</td>\n",
       "      <td>NaN</td>\n",
       "      <td>k1oPVp63eNk</td>\n",
       "      <td>NaN</td>\n",
       "    </tr>\n",
       "    <tr>\n",
       "      <th>7259</th>\n",
       "      <td>1061</td>\n",
       "      <td>UgzuY7xu4MdA_eFHMN14AaABAg</td>\n",
       "      <td>UgzuY7xu4MdA_eFHMN14AaABAg</td>\n",
       "      <td>2021-01-22T17:09:07Z</td>\n",
       "      <td>amf</td>\n",
       "      <td>Would you bet your paycheck on a weather forec...</td>\n",
       "      <td>0.0</td>\n",
       "      <td>0.0</td>\n",
       "      <td>NaN</td>\n",
       "      <td>ykSpM50paoY</td>\n",
       "      <td>NaN</td>\n",
       "    </tr>\n",
       "    <tr>\n",
       "      <th>7260</th>\n",
       "      <td>1062</td>\n",
       "      <td>UgyQlJIm2i_qsmvYOT54AaABAg</td>\n",
       "      <td>UgyQlJIm2i_qsmvYOT54AaABAg</td>\n",
       "      <td>2021-01-22T17:07:13Z</td>\n",
       "      <td>amf</td>\n",
       "      <td>Joe Biden once called state-mandated school in...</td>\n",
       "      <td>0.0</td>\n",
       "      <td>0.0</td>\n",
       "      <td>NaN</td>\n",
       "      <td>ykSpM50paoY</td>\n",
       "      <td>NaN</td>\n",
       "    </tr>\n",
       "  </tbody>\n",
       "</table>\n",
       "</div>"
      ],
      "text/plain": [
       "      Unnamed: 0                          id                    threadId  \\\n",
       "7              7  Ugxk8GL2py0KtjJG-qJ4AaABAg  Ugxk8GL2py0KtjJG-qJ4AaABAg   \n",
       "1061           7  Ugxk8GL2py0KtjJG-qJ4AaABAg  Ugxk8GL2py0KtjJG-qJ4AaABAg   \n",
       "2115        1061  UgzuY7xu4MdA_eFHMN14AaABAg  UgzuY7xu4MdA_eFHMN14AaABAg   \n",
       "2116        1062  UgyQlJIm2i_qsmvYOT54AaABAg  UgyQlJIm2i_qsmvYOT54AaABAg   \n",
       "3274           7  Ugxk8GL2py0KtjJG-qJ4AaABAg  Ugxk8GL2py0KtjJG-qJ4AaABAg   \n",
       "4328        1061  UgzuY7xu4MdA_eFHMN14AaABAg  UgzuY7xu4MdA_eFHMN14AaABAg   \n",
       "4329        1062  UgyQlJIm2i_qsmvYOT54AaABAg  UgyQlJIm2i_qsmvYOT54AaABAg   \n",
       "6205           7  Ugxk8GL2py0KtjJG-qJ4AaABAg  Ugxk8GL2py0KtjJG-qJ4AaABAg   \n",
       "7259        1061  UgzuY7xu4MdA_eFHMN14AaABAg  UgzuY7xu4MdA_eFHMN14AaABAg   \n",
       "7260        1062  UgyQlJIm2i_qsmvYOT54AaABAg  UgyQlJIm2i_qsmvYOT54AaABAg   \n",
       "\n",
       "              published_at author_name  \\\n",
       "7     2021-01-22T17:15:19Z         amf   \n",
       "1061  2021-01-22T17:15:19Z         amf   \n",
       "2115  2021-01-22T17:09:07Z         amf   \n",
       "2116  2021-01-22T17:07:13Z         amf   \n",
       "3274  2021-01-22T17:15:19Z         amf   \n",
       "4328  2021-01-22T17:09:07Z         amf   \n",
       "4329  2021-01-22T17:07:13Z         amf   \n",
       "6205  2021-01-22T17:15:19Z         amf   \n",
       "7259  2021-01-22T17:09:07Z         amf   \n",
       "7260  2021-01-22T17:07:13Z         amf   \n",
       "\n",
       "                                                   text  likeCount  is_reply  \\\n",
       "7     Would you bet your paycheck on a weather forec...        0.0       0.0   \n",
       "1061  Would you bet your paycheck on a weather forec...        0.0       0.0   \n",
       "2115  Would you bet your paycheck on a weather forec...        0.0       0.0   \n",
       "2116  Joe Biden once called state-mandated school in...        0.0       0.0   \n",
       "3274  Would you bet your paycheck on a weather forec...        0.0       0.0   \n",
       "4328  Would you bet your paycheck on a weather forec...        0.0       0.0   \n",
       "4329  Joe Biden once called state-mandated school in...        0.0       0.0   \n",
       "6205  Would you bet your paycheck on a weather forec...        0.0       0.0   \n",
       "7259  Would you bet your paycheck on a weather forec...        0.0       0.0   \n",
       "7260  Joe Biden once called state-mandated school in...        0.0       0.0   \n",
       "\n",
       "      cleaned     video_id  video_published_at  \n",
       "7         NaN  k1oPVp63eNk                 NaN  \n",
       "1061      NaN  k1oPVp63eNk                 NaN  \n",
       "2115      NaN  ykSpM50paoY                 NaN  \n",
       "2116      NaN  ykSpM50paoY                 NaN  \n",
       "3274      NaN  k1oPVp63eNk                 NaN  \n",
       "4328      NaN  ykSpM50paoY                 NaN  \n",
       "4329      NaN  ykSpM50paoY                 NaN  \n",
       "6205      NaN  k1oPVp63eNk                 NaN  \n",
       "7259      NaN  ykSpM50paoY                 NaN  \n",
       "7260      NaN  ykSpM50paoY                 NaN  "
      ]
     },
     "execution_count": 22,
     "metadata": {},
     "output_type": "execute_result"
    }
   ],
   "source": [
    "df[df.author_name==\"amf\"]"
   ]
  },
  {
   "cell_type": "code",
   "execution_count": 28,
   "metadata": {},
   "outputs": [
    {
     "data": {
      "text/plain": [
       "k1oPVp63eNk    4216\n",
       "ykSpM50paoY    3477\n",
       "1yxeRrOtT7g    1436\n",
       "x9WFM53D1Hc     554\n",
       "Name: video_id, dtype: int64"
      ]
     },
     "execution_count": 28,
     "metadata": {},
     "output_type": "execute_result"
    }
   ],
   "source": [
    "df.video_id.value_counts()"
   ]
  },
  {
   "cell_type": "code",
   "execution_count": 31,
   "metadata": {},
   "outputs": [
    {
     "data": {
      "text/plain": [
       "'Would you bet your paycheck on a weather forecast for tomorrow? If not, then why should this country bet billions on global warming predictions that have even less foundation?'"
      ]
     },
     "execution_count": 31,
     "metadata": {},
     "output_type": "execute_result"
    }
   ],
   "source": [
    "df[df.author_name==\"amf\"].text.iloc[0]"
   ]
  },
  {
   "cell_type": "code",
   "execution_count": 32,
   "metadata": {},
   "outputs": [
    {
     "data": {
      "text/plain": [
       "'Joe Biden once called state-mandated school integration “the most racist concept you can come up with,” and Barack Obama “the first sort of mainstream African American who is articulate and bright and clean.” He was a staunch opponent of “forced busing” in the 1970s, and leading crusader for mass incarceration throughout the ‘80s and ‘90s. Uncle Joe has described African-American felons as “predators” too sociopathic to rehabilitate — and white supremacist senators as his friends.⬅'"
      ]
     },
     "execution_count": 32,
     "metadata": {},
     "output_type": "execute_result"
    }
   ],
   "source": [
    "df[df.author_name==\"amf\"].text.iloc[-1]"
   ]
  },
  {
   "cell_type": "code",
   "execution_count": 4,
   "metadata": {},
   "outputs": [],
   "source": [
    "df = pd.DataFrame({'name': ['Ma', 'Donatello'],\n",
    "\n",
    "                   'mask': ['red', 'green'],\n",
    "\n",
    "                   'weapon': ['sword', 'bo staff']})\n",
    "\n",
    "df.to_csv(\"test123.csv\", index=False)"
   ]
  }
 ],
 "metadata": {
  "kernelspec": {
   "display_name": "Python 3",
   "language": "python",
   "name": "python3"
  },
  "language_info": {
   "codemirror_mode": {
    "name": "ipython",
    "version": 3
   },
   "file_extension": ".py",
   "mimetype": "text/x-python",
   "name": "python",
   "nbconvert_exporter": "python",
   "pygments_lexer": "ipython3",
   "version": "3.6.9"
  }
 },
 "nbformat": 4,
 "nbformat_minor": 5
}
