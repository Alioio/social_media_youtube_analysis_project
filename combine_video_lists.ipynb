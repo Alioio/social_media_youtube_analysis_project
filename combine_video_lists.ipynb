{
 "cells": [
  {
   "cell_type": "markdown",
   "metadata": {},
   "source": [
    "Import Stuff"
   ]
  },
  {
   "cell_type": "code",
   "execution_count": 47,
   "metadata": {},
   "outputs": [],
   "source": [
    "import pandas as pd\n",
    "import numpy as np\n",
    "import os\n",
    "from datetime import datetime"
   ]
  },
  {
   "cell_type": "markdown",
   "metadata": {},
   "source": [
    "set Variables and options\n",
    "\n",
    "variables:"
   ]
  },
  {
   "cell_type": "code",
   "execution_count": 48,
   "metadata": {},
   "outputs": [
    {
     "name": "stdout",
     "output_type": "stream",
     "text": [
      "C:\\Users\\moritz\\Downloads\\social analizing\\project\\git\\social_media_youtube_analysis_project\n"
     ]
    }
   ],
   "source": [
    "min_Comments = 10.0\n",
    "\n",
    "path = os.path.abspath(\"../social_media_youtube_analysis_project\")\n",
    "print(path)"
   ]
  },
  {
   "cell_type": "markdown",
   "metadata": {},
   "source": [
    "options:"
   ]
  },
  {
   "cell_type": "code",
   "execution_count": 49,
   "metadata": {},
   "outputs": [],
   "source": [
    "pd.set_option('display.max_rows', None)\n",
    "pd.set_option('display.max_columns', None)\n",
    "pd.set_option('display.width', None)\n",
    "pd.set_option('display.max_colwidth', None)"
   ]
  },
  {
   "cell_type": "markdown",
   "metadata": {},
   "source": [
    "Erstelle Liste der Videolisten"
   ]
  },
  {
   "cell_type": "code",
   "execution_count": 50,
   "metadata": {},
   "outputs": [
    {
     "name": "stdout",
     "output_type": "stream",
     "text": [
      "['videolist_search100_2021_01_28-10_56_10.tab', 'videolist_search100_2021_01_28-10_57_20.tab', 'videolist_search500_2021_02_07-00_46_57_climate_crisis.tab', 'videolist_search50_2021_01_19-13_55_33.tab']\n"
     ]
    }
   ],
   "source": [
    "\n",
    "files = [f for f in os.listdir(path + \"/data_raw\") if os.path.isfile(os.path.join( path + \"/data_raw\" , f)) and \"videolist\" in f]\n",
    "print(files)"
   ]
  },
  {
   "cell_type": "markdown",
   "metadata": {},
   "source": [
    "combine files"
   ]
  },
  {
   "cell_type": "code",
   "execution_count": 51,
   "metadata": {},
   "outputs": [],
   "source": [
    "combined_csv = pd.concat([pd.read_csv(path + \"/data_raw/\" + f, sep='\\t',header=(0)) for f in files ])"
   ]
  },
  {
   "cell_type": "markdown",
   "metadata": {},
   "source": [
    "drop duplicate videos"
   ]
  },
  {
   "cell_type": "code",
   "execution_count": 52,
   "metadata": {},
   "outputs": [],
   "source": [
    "# sorting by first name \n",
    "# combined_csv.sort_values(\"First Name\", inplace = True) \n",
    "  \n",
    "combined_csv.drop_duplicates(subset =\"videoId\", \n",
    "                     keep = False, inplace = True) "
   ]
  },
  {
   "cell_type": "markdown",
   "metadata": {},
   "source": [
    "drop videos below comment minimum"
   ]
  },
  {
   "cell_type": "code",
   "execution_count": 53,
   "metadata": {},
   "outputs": [],
   "source": [
    "combined_csv.drop(combined_csv[combined_csv.commentCount < min_Comments].index, inplace=True)"
   ]
  },
  {
   "cell_type": "markdown",
   "metadata": {},
   "source": [
    "Export as CSV with timestamp"
   ]
  },
  {
   "cell_type": "code",
   "execution_count": 54,
   "metadata": {},
   "outputs": [],
   "source": [
    "# datetime object containing current date and time\n",
    "now = datetime.now()\n",
    " \n",
    "# time Format\n",
    "# YY-mm-dd-H-M-S\n",
    "dt_string = now.strftime(\"%Y-%m-%d-%H-%M-%S\")\n",
    "\n",
    "# in case path does not exist\n",
    "if not os.path.exists(path + \"/summery_vid_lists/\"):\n",
    "    os.makedirs(path + \"/summery_vid_lists/\")\n",
    "\n",
    "combined_csv.to_csv( path + \"/summery_vid_lists/\" + dt_string + \"_master_video_list.csv\", index=False, encoding='utf-8-sig')"
   ]
  },
  {
   "cell_type": "code",
   "execution_count": null,
   "metadata": {},
   "outputs": [],
   "source": []
  }
 ],
 "metadata": {
  "kernelspec": {
   "display_name": "Python 3",
   "language": "python",
   "name": "python3"
  },
  "language_info": {
   "codemirror_mode": {
    "name": "ipython",
    "version": 3
   },
   "file_extension": ".py",
   "mimetype": "text/x-python",
   "name": "python",
   "nbconvert_exporter": "python",
   "pygments_lexer": "ipython3",
   "version": "3.6.12"
  }
 },
 "nbformat": 4,
 "nbformat_minor": 4
}
